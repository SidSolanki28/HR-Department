{
  "nbformat": 4,
  "nbformat_minor": 0,
  "metadata": {
    "colab": {
      "name": "HR Department",
      "provenance": [],
      "collapsed_sections": [],
      "authorship_tag": "ABX9TyNjHuJsRLOI2Oc2xcIY+VTd",
      "include_colab_link": true
    },
    "kernelspec": {
      "name": "python3",
      "display_name": "Python 3"
    }
  },
  "cells": [
    {
      "cell_type": "markdown",
      "metadata": {
        "id": "view-in-github",
        "colab_type": "text"
      },
      "source": [
        "<a href=\"https://colab.research.google.com/github/SidSolanki28/HR-Department/blob/master/HR_Department.ipynb\" target=\"_parent\"><img src=\"https://colab.research.google.com/assets/colab-badge.svg\" alt=\"Open In Colab\"/></a>"
      ]
    },
    {
      "cell_type": "markdown",
      "metadata": {
        "id": "Lb_AEB7OvQu3",
        "colab_type": "text"
      },
      "source": [
        "# Importing libraries"
      ]
    },
    {
      "cell_type": "code",
      "metadata": {
        "id": "b8vGtHgsvSxS",
        "colab_type": "code",
        "colab": {
          "base_uri": "https://localhost:8080/",
          "height": 74
        },
        "outputId": "d8c686d2-f622-4f5f-f6b5-a613ea3786bd"
      },
      "source": [
        "# important packages\n",
        "\t\n",
        "import pandas as pd\t\t\t\t\t# data manipulation using dataframes\n",
        "import numpy as np\t\t\t\t\t# data statistical analysis\n",
        "\n",
        "import seaborn as sns\t\t\t\t# Statistical data visualization\n",
        "import matplotlib.pyplot as plt\t\t# data visualisation\n",
        "%matplotlib inline"
      ],
      "execution_count": 1,
      "outputs": [
        {
          "output_type": "stream",
          "text": [
            "/usr/local/lib/python3.6/dist-packages/statsmodels/tools/_testing.py:19: FutureWarning: pandas.util.testing is deprecated. Use the functions in the public API at pandas.testing instead.\n",
            "  import pandas.util.testing as tm\n"
          ],
          "name": "stderr"
        }
      ]
    },
    {
      "cell_type": "markdown",
      "metadata": {
        "id": "--yj3tBsvU6E",
        "colab_type": "text"
      },
      "source": [
        "# Importing Dataset"
      ]
    },
    {
      "cell_type": "code",
      "metadata": {
        "id": "ZJlZAjwcvTUV",
        "colab_type": "code",
        "colab": {}
      },
      "source": [
        "raw_df = pd.read_csv(\"/content/Human_Resources.csv\")\t\t\t# to import .csv file"
      ],
      "execution_count": 2,
      "outputs": []
    },
    {
      "cell_type": "code",
      "metadata": {
        "id": "esw1573cvmDb",
        "colab_type": "code",
        "colab": {}
      },
      "source": [
        "df = raw_df.copy()\t\t\t# copy of initial dataset"
      ],
      "execution_count": 3,
      "outputs": []
    },
    {
      "cell_type": "markdown",
      "metadata": {
        "id": "geqn1qnVvrTk",
        "colab_type": "text"
      },
      "source": [
        "# Data Inspection"
      ]
    },
    {
      "cell_type": "code",
      "metadata": {
        "id": "xOKQgHJnvpbb",
        "colab_type": "code",
        "colab": {
          "base_uri": "https://localhost:8080/",
          "height": 35
        },
        "outputId": "80f5570f-9d55-4be6-c015-6064656d0603"
      },
      "source": [
        "df.shape\t\t\t# to get dimensions of the table"
      ],
      "execution_count": 4,
      "outputs": [
        {
          "output_type": "execute_result",
          "data": {
            "text/plain": [
              "(1470, 35)"
            ]
          },
          "metadata": {
            "tags": []
          },
          "execution_count": 4
        }
      ]
    },
    {
      "cell_type": "code",
      "metadata": {
        "id": "HhK9vo1Nvu0C",
        "colab_type": "code",
        "colab": {
          "base_uri": "https://localhost:8080/",
          "height": 313
        },
        "outputId": "ffc5720b-1586-4571-9b37-67a463024d22"
      },
      "source": [
        "df.head()\t\t\t# to get first 5 rows"
      ],
      "execution_count": 5,
      "outputs": [
        {
          "output_type": "execute_result",
          "data": {
            "text/html": [
              "<div>\n",
              "<style scoped>\n",
              "    .dataframe tbody tr th:only-of-type {\n",
              "        vertical-align: middle;\n",
              "    }\n",
              "\n",
              "    .dataframe tbody tr th {\n",
              "        vertical-align: top;\n",
              "    }\n",
              "\n",
              "    .dataframe thead th {\n",
              "        text-align: right;\n",
              "    }\n",
              "</style>\n",
              "<table border=\"1\" class=\"dataframe\">\n",
              "  <thead>\n",
              "    <tr style=\"text-align: right;\">\n",
              "      <th></th>\n",
              "      <th>Age</th>\n",
              "      <th>Attrition</th>\n",
              "      <th>BusinessTravel</th>\n",
              "      <th>DailyRate</th>\n",
              "      <th>Department</th>\n",
              "      <th>DistanceFromHome</th>\n",
              "      <th>Education</th>\n",
              "      <th>EducationField</th>\n",
              "      <th>EmployeeCount</th>\n",
              "      <th>EmployeeNumber</th>\n",
              "      <th>EnvironmentSatisfaction</th>\n",
              "      <th>Gender</th>\n",
              "      <th>HourlyRate</th>\n",
              "      <th>JobInvolvement</th>\n",
              "      <th>JobLevel</th>\n",
              "      <th>JobRole</th>\n",
              "      <th>JobSatisfaction</th>\n",
              "      <th>MaritalStatus</th>\n",
              "      <th>MonthlyIncome</th>\n",
              "      <th>MonthlyRate</th>\n",
              "      <th>NumCompaniesWorked</th>\n",
              "      <th>Over18</th>\n",
              "      <th>OverTime</th>\n",
              "      <th>PercentSalaryHike</th>\n",
              "      <th>PerformanceRating</th>\n",
              "      <th>RelationshipSatisfaction</th>\n",
              "      <th>StandardHours</th>\n",
              "      <th>StockOptionLevel</th>\n",
              "      <th>TotalWorkingYears</th>\n",
              "      <th>TrainingTimesLastYear</th>\n",
              "      <th>WorkLifeBalance</th>\n",
              "      <th>YearsAtCompany</th>\n",
              "      <th>YearsInCurrentRole</th>\n",
              "      <th>YearsSinceLastPromotion</th>\n",
              "      <th>YearsWithCurrManager</th>\n",
              "    </tr>\n",
              "  </thead>\n",
              "  <tbody>\n",
              "    <tr>\n",
              "      <th>0</th>\n",
              "      <td>41</td>\n",
              "      <td>Yes</td>\n",
              "      <td>Travel_Rarely</td>\n",
              "      <td>1102</td>\n",
              "      <td>Sales</td>\n",
              "      <td>1</td>\n",
              "      <td>2</td>\n",
              "      <td>Life Sciences</td>\n",
              "      <td>1</td>\n",
              "      <td>1</td>\n",
              "      <td>2</td>\n",
              "      <td>Female</td>\n",
              "      <td>94</td>\n",
              "      <td>3</td>\n",
              "      <td>2</td>\n",
              "      <td>Sales Executive</td>\n",
              "      <td>4</td>\n",
              "      <td>Single</td>\n",
              "      <td>5993</td>\n",
              "      <td>19479</td>\n",
              "      <td>8</td>\n",
              "      <td>Y</td>\n",
              "      <td>Yes</td>\n",
              "      <td>11</td>\n",
              "      <td>3</td>\n",
              "      <td>1</td>\n",
              "      <td>80</td>\n",
              "      <td>0</td>\n",
              "      <td>8</td>\n",
              "      <td>0</td>\n",
              "      <td>1</td>\n",
              "      <td>6</td>\n",
              "      <td>4</td>\n",
              "      <td>0</td>\n",
              "      <td>5</td>\n",
              "    </tr>\n",
              "    <tr>\n",
              "      <th>1</th>\n",
              "      <td>49</td>\n",
              "      <td>No</td>\n",
              "      <td>Travel_Frequently</td>\n",
              "      <td>279</td>\n",
              "      <td>Research &amp; Development</td>\n",
              "      <td>8</td>\n",
              "      <td>1</td>\n",
              "      <td>Life Sciences</td>\n",
              "      <td>1</td>\n",
              "      <td>2</td>\n",
              "      <td>3</td>\n",
              "      <td>Male</td>\n",
              "      <td>61</td>\n",
              "      <td>2</td>\n",
              "      <td>2</td>\n",
              "      <td>Research Scientist</td>\n",
              "      <td>2</td>\n",
              "      <td>Married</td>\n",
              "      <td>5130</td>\n",
              "      <td>24907</td>\n",
              "      <td>1</td>\n",
              "      <td>Y</td>\n",
              "      <td>No</td>\n",
              "      <td>23</td>\n",
              "      <td>4</td>\n",
              "      <td>4</td>\n",
              "      <td>80</td>\n",
              "      <td>1</td>\n",
              "      <td>10</td>\n",
              "      <td>3</td>\n",
              "      <td>3</td>\n",
              "      <td>10</td>\n",
              "      <td>7</td>\n",
              "      <td>1</td>\n",
              "      <td>7</td>\n",
              "    </tr>\n",
              "    <tr>\n",
              "      <th>2</th>\n",
              "      <td>37</td>\n",
              "      <td>Yes</td>\n",
              "      <td>Travel_Rarely</td>\n",
              "      <td>1373</td>\n",
              "      <td>Research &amp; Development</td>\n",
              "      <td>2</td>\n",
              "      <td>2</td>\n",
              "      <td>Other</td>\n",
              "      <td>1</td>\n",
              "      <td>4</td>\n",
              "      <td>4</td>\n",
              "      <td>Male</td>\n",
              "      <td>92</td>\n",
              "      <td>2</td>\n",
              "      <td>1</td>\n",
              "      <td>Laboratory Technician</td>\n",
              "      <td>3</td>\n",
              "      <td>Single</td>\n",
              "      <td>2090</td>\n",
              "      <td>2396</td>\n",
              "      <td>6</td>\n",
              "      <td>Y</td>\n",
              "      <td>Yes</td>\n",
              "      <td>15</td>\n",
              "      <td>3</td>\n",
              "      <td>2</td>\n",
              "      <td>80</td>\n",
              "      <td>0</td>\n",
              "      <td>7</td>\n",
              "      <td>3</td>\n",
              "      <td>3</td>\n",
              "      <td>0</td>\n",
              "      <td>0</td>\n",
              "      <td>0</td>\n",
              "      <td>0</td>\n",
              "    </tr>\n",
              "    <tr>\n",
              "      <th>3</th>\n",
              "      <td>33</td>\n",
              "      <td>No</td>\n",
              "      <td>Travel_Frequently</td>\n",
              "      <td>1392</td>\n",
              "      <td>Research &amp; Development</td>\n",
              "      <td>3</td>\n",
              "      <td>4</td>\n",
              "      <td>Life Sciences</td>\n",
              "      <td>1</td>\n",
              "      <td>5</td>\n",
              "      <td>4</td>\n",
              "      <td>Female</td>\n",
              "      <td>56</td>\n",
              "      <td>3</td>\n",
              "      <td>1</td>\n",
              "      <td>Research Scientist</td>\n",
              "      <td>3</td>\n",
              "      <td>Married</td>\n",
              "      <td>2909</td>\n",
              "      <td>23159</td>\n",
              "      <td>1</td>\n",
              "      <td>Y</td>\n",
              "      <td>Yes</td>\n",
              "      <td>11</td>\n",
              "      <td>3</td>\n",
              "      <td>3</td>\n",
              "      <td>80</td>\n",
              "      <td>0</td>\n",
              "      <td>8</td>\n",
              "      <td>3</td>\n",
              "      <td>3</td>\n",
              "      <td>8</td>\n",
              "      <td>7</td>\n",
              "      <td>3</td>\n",
              "      <td>0</td>\n",
              "    </tr>\n",
              "    <tr>\n",
              "      <th>4</th>\n",
              "      <td>27</td>\n",
              "      <td>No</td>\n",
              "      <td>Travel_Rarely</td>\n",
              "      <td>591</td>\n",
              "      <td>Research &amp; Development</td>\n",
              "      <td>2</td>\n",
              "      <td>1</td>\n",
              "      <td>Medical</td>\n",
              "      <td>1</td>\n",
              "      <td>7</td>\n",
              "      <td>1</td>\n",
              "      <td>Male</td>\n",
              "      <td>40</td>\n",
              "      <td>3</td>\n",
              "      <td>1</td>\n",
              "      <td>Laboratory Technician</td>\n",
              "      <td>2</td>\n",
              "      <td>Married</td>\n",
              "      <td>3468</td>\n",
              "      <td>16632</td>\n",
              "      <td>9</td>\n",
              "      <td>Y</td>\n",
              "      <td>No</td>\n",
              "      <td>12</td>\n",
              "      <td>3</td>\n",
              "      <td>4</td>\n",
              "      <td>80</td>\n",
              "      <td>1</td>\n",
              "      <td>6</td>\n",
              "      <td>3</td>\n",
              "      <td>3</td>\n",
              "      <td>2</td>\n",
              "      <td>2</td>\n",
              "      <td>2</td>\n",
              "      <td>2</td>\n",
              "    </tr>\n",
              "  </tbody>\n",
              "</table>\n",
              "</div>"
            ],
            "text/plain": [
              "   Age Attrition  ... YearsSinceLastPromotion  YearsWithCurrManager\n",
              "0   41       Yes  ...                       0                     5\n",
              "1   49        No  ...                       1                     7\n",
              "2   37       Yes  ...                       0                     0\n",
              "3   33        No  ...                       3                     0\n",
              "4   27        No  ...                       2                     2\n",
              "\n",
              "[5 rows x 35 columns]"
            ]
          },
          "metadata": {
            "tags": []
          },
          "execution_count": 5
        }
      ]
    },
    {
      "cell_type": "code",
      "metadata": {
        "id": "6FVr_xg9vw2u",
        "colab_type": "code",
        "colab": {
          "base_uri": "https://localhost:8080/",
          "height": 313
        },
        "outputId": "a8f95b99-48f1-4ccc-a3b6-b6859cb9ea28"
      },
      "source": [
        "df.tail()\t\t\t# to get last 5 rows"
      ],
      "execution_count": 6,
      "outputs": [
        {
          "output_type": "execute_result",
          "data": {
            "text/html": [
              "<div>\n",
              "<style scoped>\n",
              "    .dataframe tbody tr th:only-of-type {\n",
              "        vertical-align: middle;\n",
              "    }\n",
              "\n",
              "    .dataframe tbody tr th {\n",
              "        vertical-align: top;\n",
              "    }\n",
              "\n",
              "    .dataframe thead th {\n",
              "        text-align: right;\n",
              "    }\n",
              "</style>\n",
              "<table border=\"1\" class=\"dataframe\">\n",
              "  <thead>\n",
              "    <tr style=\"text-align: right;\">\n",
              "      <th></th>\n",
              "      <th>Age</th>\n",
              "      <th>Attrition</th>\n",
              "      <th>BusinessTravel</th>\n",
              "      <th>DailyRate</th>\n",
              "      <th>Department</th>\n",
              "      <th>DistanceFromHome</th>\n",
              "      <th>Education</th>\n",
              "      <th>EducationField</th>\n",
              "      <th>EmployeeCount</th>\n",
              "      <th>EmployeeNumber</th>\n",
              "      <th>EnvironmentSatisfaction</th>\n",
              "      <th>Gender</th>\n",
              "      <th>HourlyRate</th>\n",
              "      <th>JobInvolvement</th>\n",
              "      <th>JobLevel</th>\n",
              "      <th>JobRole</th>\n",
              "      <th>JobSatisfaction</th>\n",
              "      <th>MaritalStatus</th>\n",
              "      <th>MonthlyIncome</th>\n",
              "      <th>MonthlyRate</th>\n",
              "      <th>NumCompaniesWorked</th>\n",
              "      <th>Over18</th>\n",
              "      <th>OverTime</th>\n",
              "      <th>PercentSalaryHike</th>\n",
              "      <th>PerformanceRating</th>\n",
              "      <th>RelationshipSatisfaction</th>\n",
              "      <th>StandardHours</th>\n",
              "      <th>StockOptionLevel</th>\n",
              "      <th>TotalWorkingYears</th>\n",
              "      <th>TrainingTimesLastYear</th>\n",
              "      <th>WorkLifeBalance</th>\n",
              "      <th>YearsAtCompany</th>\n",
              "      <th>YearsInCurrentRole</th>\n",
              "      <th>YearsSinceLastPromotion</th>\n",
              "      <th>YearsWithCurrManager</th>\n",
              "    </tr>\n",
              "  </thead>\n",
              "  <tbody>\n",
              "    <tr>\n",
              "      <th>1465</th>\n",
              "      <td>36</td>\n",
              "      <td>No</td>\n",
              "      <td>Travel_Frequently</td>\n",
              "      <td>884</td>\n",
              "      <td>Research &amp; Development</td>\n",
              "      <td>23</td>\n",
              "      <td>2</td>\n",
              "      <td>Medical</td>\n",
              "      <td>1</td>\n",
              "      <td>2061</td>\n",
              "      <td>3</td>\n",
              "      <td>Male</td>\n",
              "      <td>41</td>\n",
              "      <td>4</td>\n",
              "      <td>2</td>\n",
              "      <td>Laboratory Technician</td>\n",
              "      <td>4</td>\n",
              "      <td>Married</td>\n",
              "      <td>2571</td>\n",
              "      <td>12290</td>\n",
              "      <td>4</td>\n",
              "      <td>Y</td>\n",
              "      <td>No</td>\n",
              "      <td>17</td>\n",
              "      <td>3</td>\n",
              "      <td>3</td>\n",
              "      <td>80</td>\n",
              "      <td>1</td>\n",
              "      <td>17</td>\n",
              "      <td>3</td>\n",
              "      <td>3</td>\n",
              "      <td>5</td>\n",
              "      <td>2</td>\n",
              "      <td>0</td>\n",
              "      <td>3</td>\n",
              "    </tr>\n",
              "    <tr>\n",
              "      <th>1466</th>\n",
              "      <td>39</td>\n",
              "      <td>No</td>\n",
              "      <td>Travel_Rarely</td>\n",
              "      <td>613</td>\n",
              "      <td>Research &amp; Development</td>\n",
              "      <td>6</td>\n",
              "      <td>1</td>\n",
              "      <td>Medical</td>\n",
              "      <td>1</td>\n",
              "      <td>2062</td>\n",
              "      <td>4</td>\n",
              "      <td>Male</td>\n",
              "      <td>42</td>\n",
              "      <td>2</td>\n",
              "      <td>3</td>\n",
              "      <td>Healthcare Representative</td>\n",
              "      <td>1</td>\n",
              "      <td>Married</td>\n",
              "      <td>9991</td>\n",
              "      <td>21457</td>\n",
              "      <td>4</td>\n",
              "      <td>Y</td>\n",
              "      <td>No</td>\n",
              "      <td>15</td>\n",
              "      <td>3</td>\n",
              "      <td>1</td>\n",
              "      <td>80</td>\n",
              "      <td>1</td>\n",
              "      <td>9</td>\n",
              "      <td>5</td>\n",
              "      <td>3</td>\n",
              "      <td>7</td>\n",
              "      <td>7</td>\n",
              "      <td>1</td>\n",
              "      <td>7</td>\n",
              "    </tr>\n",
              "    <tr>\n",
              "      <th>1467</th>\n",
              "      <td>27</td>\n",
              "      <td>No</td>\n",
              "      <td>Travel_Rarely</td>\n",
              "      <td>155</td>\n",
              "      <td>Research &amp; Development</td>\n",
              "      <td>4</td>\n",
              "      <td>3</td>\n",
              "      <td>Life Sciences</td>\n",
              "      <td>1</td>\n",
              "      <td>2064</td>\n",
              "      <td>2</td>\n",
              "      <td>Male</td>\n",
              "      <td>87</td>\n",
              "      <td>4</td>\n",
              "      <td>2</td>\n",
              "      <td>Manufacturing Director</td>\n",
              "      <td>2</td>\n",
              "      <td>Married</td>\n",
              "      <td>6142</td>\n",
              "      <td>5174</td>\n",
              "      <td>1</td>\n",
              "      <td>Y</td>\n",
              "      <td>Yes</td>\n",
              "      <td>20</td>\n",
              "      <td>4</td>\n",
              "      <td>2</td>\n",
              "      <td>80</td>\n",
              "      <td>1</td>\n",
              "      <td>6</td>\n",
              "      <td>0</td>\n",
              "      <td>3</td>\n",
              "      <td>6</td>\n",
              "      <td>2</td>\n",
              "      <td>0</td>\n",
              "      <td>3</td>\n",
              "    </tr>\n",
              "    <tr>\n",
              "      <th>1468</th>\n",
              "      <td>49</td>\n",
              "      <td>No</td>\n",
              "      <td>Travel_Frequently</td>\n",
              "      <td>1023</td>\n",
              "      <td>Sales</td>\n",
              "      <td>2</td>\n",
              "      <td>3</td>\n",
              "      <td>Medical</td>\n",
              "      <td>1</td>\n",
              "      <td>2065</td>\n",
              "      <td>4</td>\n",
              "      <td>Male</td>\n",
              "      <td>63</td>\n",
              "      <td>2</td>\n",
              "      <td>2</td>\n",
              "      <td>Sales Executive</td>\n",
              "      <td>2</td>\n",
              "      <td>Married</td>\n",
              "      <td>5390</td>\n",
              "      <td>13243</td>\n",
              "      <td>2</td>\n",
              "      <td>Y</td>\n",
              "      <td>No</td>\n",
              "      <td>14</td>\n",
              "      <td>3</td>\n",
              "      <td>4</td>\n",
              "      <td>80</td>\n",
              "      <td>0</td>\n",
              "      <td>17</td>\n",
              "      <td>3</td>\n",
              "      <td>2</td>\n",
              "      <td>9</td>\n",
              "      <td>6</td>\n",
              "      <td>0</td>\n",
              "      <td>8</td>\n",
              "    </tr>\n",
              "    <tr>\n",
              "      <th>1469</th>\n",
              "      <td>34</td>\n",
              "      <td>No</td>\n",
              "      <td>Travel_Rarely</td>\n",
              "      <td>628</td>\n",
              "      <td>Research &amp; Development</td>\n",
              "      <td>8</td>\n",
              "      <td>3</td>\n",
              "      <td>Medical</td>\n",
              "      <td>1</td>\n",
              "      <td>2068</td>\n",
              "      <td>2</td>\n",
              "      <td>Male</td>\n",
              "      <td>82</td>\n",
              "      <td>4</td>\n",
              "      <td>2</td>\n",
              "      <td>Laboratory Technician</td>\n",
              "      <td>3</td>\n",
              "      <td>Married</td>\n",
              "      <td>4404</td>\n",
              "      <td>10228</td>\n",
              "      <td>2</td>\n",
              "      <td>Y</td>\n",
              "      <td>No</td>\n",
              "      <td>12</td>\n",
              "      <td>3</td>\n",
              "      <td>1</td>\n",
              "      <td>80</td>\n",
              "      <td>0</td>\n",
              "      <td>6</td>\n",
              "      <td>3</td>\n",
              "      <td>4</td>\n",
              "      <td>4</td>\n",
              "      <td>3</td>\n",
              "      <td>1</td>\n",
              "      <td>2</td>\n",
              "    </tr>\n",
              "  </tbody>\n",
              "</table>\n",
              "</div>"
            ],
            "text/plain": [
              "      Age Attrition  ... YearsSinceLastPromotion  YearsWithCurrManager\n",
              "1465   36        No  ...                       0                     3\n",
              "1466   39        No  ...                       1                     7\n",
              "1467   27        No  ...                       0                     3\n",
              "1468   49        No  ...                       0                     8\n",
              "1469   34        No  ...                       1                     2\n",
              "\n",
              "[5 rows x 35 columns]"
            ]
          },
          "metadata": {
            "tags": []
          },
          "execution_count": 6
        }
      ]
    },
    {
      "cell_type": "code",
      "metadata": {
        "id": "TMcblDAz_Dfo",
        "colab_type": "code",
        "colab": {
          "base_uri": "https://localhost:8080/",
          "height": 220
        },
        "outputId": "3985f91f-64ca-4f58-e647-85cb1e83a8d6"
      },
      "source": [
        "df.columns"
      ],
      "execution_count": 7,
      "outputs": [
        {
          "output_type": "execute_result",
          "data": {
            "text/plain": [
              "Index(['Age', 'Attrition', 'BusinessTravel', 'DailyRate', 'Department',\n",
              "       'DistanceFromHome', 'Education', 'EducationField', 'EmployeeCount',\n",
              "       'EmployeeNumber', 'EnvironmentSatisfaction', 'Gender', 'HourlyRate',\n",
              "       'JobInvolvement', 'JobLevel', 'JobRole', 'JobSatisfaction',\n",
              "       'MaritalStatus', 'MonthlyIncome', 'MonthlyRate', 'NumCompaniesWorked',\n",
              "       'Over18', 'OverTime', 'PercentSalaryHike', 'PerformanceRating',\n",
              "       'RelationshipSatisfaction', 'StandardHours', 'StockOptionLevel',\n",
              "       'TotalWorkingYears', 'TrainingTimesLastYear', 'WorkLifeBalance',\n",
              "       'YearsAtCompany', 'YearsInCurrentRole', 'YearsSinceLastPromotion',\n",
              "       'YearsWithCurrManager'],\n",
              "      dtype='object')"
            ]
          },
          "metadata": {
            "tags": []
          },
          "execution_count": 7
        }
      ]
    },
    {
      "cell_type": "code",
      "metadata": {
        "id": "Eu-87CTX_L1x",
        "colab_type": "code",
        "colab": {
          "base_uri": "https://localhost:8080/",
          "height": 793
        },
        "outputId": "57aecfc7-fa2e-444c-aadd-76b39a8db2f1"
      },
      "source": [
        "df.info()\t\t\t# for concise summary of dataset"
      ],
      "execution_count": 8,
      "outputs": [
        {
          "output_type": "stream",
          "text": [
            "<class 'pandas.core.frame.DataFrame'>\n",
            "RangeIndex: 1470 entries, 0 to 1469\n",
            "Data columns (total 35 columns):\n",
            " #   Column                    Non-Null Count  Dtype \n",
            "---  ------                    --------------  ----- \n",
            " 0   Age                       1470 non-null   int64 \n",
            " 1   Attrition                 1470 non-null   object\n",
            " 2   BusinessTravel            1470 non-null   object\n",
            " 3   DailyRate                 1470 non-null   int64 \n",
            " 4   Department                1470 non-null   object\n",
            " 5   DistanceFromHome          1470 non-null   int64 \n",
            " 6   Education                 1470 non-null   int64 \n",
            " 7   EducationField            1470 non-null   object\n",
            " 8   EmployeeCount             1470 non-null   int64 \n",
            " 9   EmployeeNumber            1470 non-null   int64 \n",
            " 10  EnvironmentSatisfaction   1470 non-null   int64 \n",
            " 11  Gender                    1470 non-null   object\n",
            " 12  HourlyRate                1470 non-null   int64 \n",
            " 13  JobInvolvement            1470 non-null   int64 \n",
            " 14  JobLevel                  1470 non-null   int64 \n",
            " 15  JobRole                   1470 non-null   object\n",
            " 16  JobSatisfaction           1470 non-null   int64 \n",
            " 17  MaritalStatus             1470 non-null   object\n",
            " 18  MonthlyIncome             1470 non-null   int64 \n",
            " 19  MonthlyRate               1470 non-null   int64 \n",
            " 20  NumCompaniesWorked        1470 non-null   int64 \n",
            " 21  Over18                    1470 non-null   object\n",
            " 22  OverTime                  1470 non-null   object\n",
            " 23  PercentSalaryHike         1470 non-null   int64 \n",
            " 24  PerformanceRating         1470 non-null   int64 \n",
            " 25  RelationshipSatisfaction  1470 non-null   int64 \n",
            " 26  StandardHours             1470 non-null   int64 \n",
            " 27  StockOptionLevel          1470 non-null   int64 \n",
            " 28  TotalWorkingYears         1470 non-null   int64 \n",
            " 29  TrainingTimesLastYear     1470 non-null   int64 \n",
            " 30  WorkLifeBalance           1470 non-null   int64 \n",
            " 31  YearsAtCompany            1470 non-null   int64 \n",
            " 32  YearsInCurrentRole        1470 non-null   int64 \n",
            " 33  YearsSinceLastPromotion   1470 non-null   int64 \n",
            " 34  YearsWithCurrManager      1470 non-null   int64 \n",
            "dtypes: int64(26), object(9)\n",
            "memory usage: 402.1+ KB\n"
          ],
          "name": "stdout"
        }
      ]
    },
    {
      "cell_type": "code",
      "metadata": {
        "id": "uodudQzg_Vm0",
        "colab_type": "code",
        "colab": {
          "base_uri": "https://localhost:8080/",
          "height": 35
        },
        "outputId": "505e8f35-1b1f-4da3-bbd6-1ed4ed9771f7"
      },
      "source": [
        "df['Attrition'].unique()"
      ],
      "execution_count": 9,
      "outputs": [
        {
          "output_type": "execute_result",
          "data": {
            "text/plain": [
              "array(['Yes', 'No'], dtype=object)"
            ]
          },
          "metadata": {
            "tags": []
          },
          "execution_count": 9
        }
      ]
    },
    {
      "cell_type": "code",
      "metadata": {
        "id": "cbKvT-OV_if_",
        "colab_type": "code",
        "colab": {
          "base_uri": "https://localhost:8080/",
          "height": 35
        },
        "outputId": "9778c040-16ca-4bc9-a246-555a37851294"
      },
      "source": [
        "df['BusinessTravel'].unique()"
      ],
      "execution_count": 10,
      "outputs": [
        {
          "output_type": "execute_result",
          "data": {
            "text/plain": [
              "array(['Travel_Rarely', 'Travel_Frequently', 'Non-Travel'], dtype=object)"
            ]
          },
          "metadata": {
            "tags": []
          },
          "execution_count": 10
        }
      ]
    },
    {
      "cell_type": "code",
      "metadata": {
        "id": "GgSK7MDA_nxe",
        "colab_type": "code",
        "colab": {
          "base_uri": "https://localhost:8080/",
          "height": 35
        },
        "outputId": "62c7bf84-b414-457e-dbe7-bd4a7af8f6c5"
      },
      "source": [
        "df['Department'].unique()"
      ],
      "execution_count": 11,
      "outputs": [
        {
          "output_type": "execute_result",
          "data": {
            "text/plain": [
              "array(['Sales', 'Research & Development', 'Human Resources'], dtype=object)"
            ]
          },
          "metadata": {
            "tags": []
          },
          "execution_count": 11
        }
      ]
    },
    {
      "cell_type": "code",
      "metadata": {
        "id": "4pIDmds0_1WG",
        "colab_type": "code",
        "colab": {
          "base_uri": "https://localhost:8080/",
          "height": 54
        },
        "outputId": "ba988fd6-9c65-486f-d9ec-5a39cde9ad0d"
      },
      "source": [
        "df['EducationField'].unique()"
      ],
      "execution_count": 12,
      "outputs": [
        {
          "output_type": "execute_result",
          "data": {
            "text/plain": [
              "array(['Life Sciences', 'Other', 'Medical', 'Marketing',\n",
              "       'Technical Degree', 'Human Resources'], dtype=object)"
            ]
          },
          "metadata": {
            "tags": []
          },
          "execution_count": 12
        }
      ]
    },
    {
      "cell_type": "markdown",
      "metadata": {
        "id": "5T5j3ZUmjAw1",
        "colab_type": "text"
      },
      "source": [
        "# Data Cleaning"
      ]
    },
    {
      "cell_type": "code",
      "metadata": {
        "id": "vqTRPOc7BFRG",
        "colab_type": "code",
        "colab": {
          "base_uri": "https://localhost:8080/",
          "height": 489
        },
        "outputId": "0fe382ca-7342-4d92-f47e-7c4279b0b180"
      },
      "source": [
        "plt.figure(figsize=(10,6))\n",
        "sns.heatmap(df.isnull(), yticklabels = False, cbar = False, cmap = 'Blues' )\n",
        "plt.show()"
      ],
      "execution_count": 13,
      "outputs": [
        {
          "output_type": "display_data",
          "data": {
            "image/png": "[encoded data removed]",
            "text/plain": [
              "<Figure size 720x432 with 1 Axes>"
            ]
          },
          "metadata": {
            "tags": [],
            "needs_background": "light"
          }
        }
      ]
    },
    {
      "cell_type": "markdown",
      "metadata": {
        "id": "x4X1nVSnjDAh",
        "colab_type": "text"
      },
      "source": [
        "# Explanatory Data Analysis"
      ]
    },
    {
      "cell_type": "markdown",
      "metadata": {
        "id": "bXoodwmds9PU",
        "colab_type": "text"
      },
      "source": [
        "### Change label and Yes/No columns to binary [0/1] to extract numerical informatiom."
      ]
    },
    {
      "cell_type": "code",
      "metadata": {
        "id": "CCMK4t6VkcyV",
        "colab_type": "code",
        "colab": {}
      },
      "source": [
        "df1 = df.copy()"
      ],
      "execution_count": 14,
      "outputs": []
    },
    {
      "cell_type": "code",
      "metadata": {
        "id": "uHAtZidJjOtJ",
        "colab_type": "code",
        "colab": {}
      },
      "source": [
        "df1['Attrition'] = df1['Attrition'].map({'Yes': 1, 'No': 0})\n",
        "df1['Over18'] = df1['Over18'].map({'Y': 1, 'N': 0})\n",
        "df1['OverTime'] = df1['OverTime'].map({'Yes': 1, 'No': 0})"
      ],
      "execution_count": 15,
      "outputs": []
    },
    {
      "cell_type": "markdown",
      "metadata": {
        "id": "u3KxYVn75B3W",
        "colab_type": "text"
      },
      "source": [
        "### Checking distribution of numerical features"
      ]
    },
    {
      "cell_type": "code",
      "metadata": {
        "id": "VGIQbUFi5Jrz",
        "colab_type": "code",
        "colab": {
          "base_uri": "https://localhost:8080/",
          "height": 880
        },
        "outputId": "ac91f4a6-a004-41f8-a522-46daeed8887a"
      },
      "source": [
        "df1.hist( bins = 50, figsize = (25,20))\n",
        "plt.show()"
      ],
      "execution_count": 16,
      "outputs": [
        {
          "output_type": "display_data",
          "data": {
            "image/png": "[encoded data removed]",
            "text/plain": [
              "<Figure size 1800x1440 with 30 Axes>"
            ]
          },
          "metadata": {
            "tags": [],
            "needs_background": "light"
          }
        }
      ]
    },
    {
      "cell_type": "markdown",
      "metadata": {
        "id": "hwTp4Tph5PDU",
        "colab_type": "text"
      },
      "source": [
        "Drop following columns which are not changing with x-axis i.e. number of employees \n",
        "\n",
        "'EmployeeCount', 'Over18', 'StandardHours'"
      ]
    },
    {
      "cell_type": "code",
      "metadata": {
        "id": "MD_zJYU55ZbV",
        "colab_type": "code",
        "colab": {}
      },
      "source": [
        "df2 = df1.copy()"
      ],
      "execution_count": 17,
      "outputs": []
    },
    {
      "cell_type": "code",
      "metadata": {
        "id": "McIdZq-m5efR",
        "colab_type": "code",
        "colab": {}
      },
      "source": [
        "df2 = df2.drop(['EmployeeCount', 'Over18', 'StandardHours'], axis = 1)"
      ],
      "execution_count": 18,
      "outputs": []
    },
    {
      "cell_type": "markdown",
      "metadata": {
        "id": "KJE_-0B95hwC",
        "colab_type": "text"
      },
      "source": [
        "Remove column with nominal data which is 'Employee Number'\n",
        "\n",
        "Nominal data : data which is used to distinguish the individuals from one another but does not carry any information"
      ]
    },
    {
      "cell_type": "code",
      "metadata": {
        "id": "p_LBoV4X5mNR",
        "colab_type": "code",
        "colab": {}
      },
      "source": [
        "df2 = df2.drop(['EmployeeNumber'], axis = 1)"
      ],
      "execution_count": 19,
      "outputs": []
    },
    {
      "cell_type": "markdown",
      "metadata": {
        "id": "_GE0u-tn5vrq",
        "colab_type": "text"
      },
      "source": [
        "Tail heavily features :\n",
        "   \n",
        "'Distance from home', 'Monthly income', 'Percent Salary hike', 'Years at company', 'Years since last promotion'"
      ]
    },
    {
      "cell_type": "markdown",
      "metadata": {
        "id": "5rGJVliOtbKq",
        "colab_type": "text"
      },
      "source": [
        "### Univariate Analysis : Target"
      ]
    },
    {
      "cell_type": "code",
      "metadata": {
        "id": "9sAmRKJNtadb",
        "colab_type": "code",
        "colab": {
          "base_uri": "https://localhost:8080/",
          "height": 279
        },
        "outputId": "92d0d760-bf83-4d48-c9c6-270e53bea450"
      },
      "source": [
        "sns.countplot(y=\"Attrition\", data=df2, order = df2['Attrition'].value_counts().index)\n",
        "plt.show()"
      ],
      "execution_count": 20,
      "outputs": [
        {
          "output_type": "display_data",
          "data": {
            "image/png": "[encoded data removed]",
            "text/plain": [
              "<Figure size 432x288 with 1 Axes>"
            ]
          },
          "metadata": {
            "tags": [],
            "needs_background": "light"
          }
        }
      ]
    },
    {
      "cell_type": "code",
      "metadata": {
        "id": "C0UcUx13rVZt",
        "colab_type": "code",
        "colab": {
          "base_uri": "https://localhost:8080/",
          "height": 72
        },
        "outputId": "4b6a1627-b442-4358-961c-42edbc2829ef"
      },
      "source": [
        "stayed_df = df2[df2['Attrition'] == 0]\n",
        "left_df = df2[df2['Attrition'] == 1]\n",
        "\n",
        "print(f'Total Employees = {len(df)}')\n",
        "print(f'Employees who left = {len(left_df)/len(df)*100:.2f}%')\n",
        "print(f'Employees who stayed = {len(stayed_df)/len(df)*100:.2f}%')"
      ],
      "execution_count": 21,
      "outputs": [
        {
          "output_type": "stream",
          "text": [
            "Total Employees = 1470\n",
            "Employees who left = 16.12%\n",
            "Employees who stayed = 83.88%\n"
          ],
          "name": "stdout"
        }
      ]
    },
    {
      "cell_type": "markdown",
      "metadata": {
        "id": "bvjc5tu-vmpb",
        "colab_type": "text"
      },
      "source": [
        "It is clear this is imbalance dataset"
      ]
    },
    {
      "cell_type": "code",
      "metadata": {
        "id": "THuyBFHuvmc8",
        "colab_type": "code",
        "colab": {
          "base_uri": "https://localhost:8080/",
          "height": 320
        },
        "outputId": "b13490a7-9dfc-4fb5-c44c-e9e49a6be140"
      },
      "source": [
        "stayed_df.describe()"
      ],
      "execution_count": 22,
      "outputs": [
        {
          "output_type": "execute_result",
          "data": {
            "text/html": [
              "<div>\n",
              "<style scoped>\n",
              "    .dataframe tbody tr th:only-of-type {\n",
              "        vertical-align: middle;\n",
              "    }\n",
              "\n",
              "    .dataframe tbody tr th {\n",
              "        vertical-align: top;\n",
              "    }\n",
              "\n",
              "    .dataframe thead th {\n",
              "        text-align: right;\n",
              "    }\n",
              "</style>\n",
              "<table border=\"1\" class=\"dataframe\">\n",
              "  <thead>\n",
              "    <tr style=\"text-align: right;\">\n",
              "      <th></th>\n",
              "      <th>Age</th>\n",
              "      <th>Attrition</th>\n",
              "      <th>DailyRate</th>\n",
              "      <th>DistanceFromHome</th>\n",
              "      <th>Education</th>\n",
              "      <th>EnvironmentSatisfaction</th>\n",
              "      <th>HourlyRate</th>\n",
              "      <th>JobInvolvement</th>\n",
              "      <th>JobLevel</th>\n",
              "      <th>JobSatisfaction</th>\n",
              "      <th>MonthlyIncome</th>\n",
              "      <th>MonthlyRate</th>\n",
              "      <th>NumCompaniesWorked</th>\n",
              "      <th>OverTime</th>\n",
              "      <th>PercentSalaryHike</th>\n",
              "      <th>PerformanceRating</th>\n",
              "      <th>RelationshipSatisfaction</th>\n",
              "      <th>StockOptionLevel</th>\n",
              "      <th>TotalWorkingYears</th>\n",
              "      <th>TrainingTimesLastYear</th>\n",
              "      <th>WorkLifeBalance</th>\n",
              "      <th>YearsAtCompany</th>\n",
              "      <th>YearsInCurrentRole</th>\n",
              "      <th>YearsSinceLastPromotion</th>\n",
              "      <th>YearsWithCurrManager</th>\n",
              "    </tr>\n",
              "  </thead>\n",
              "  <tbody>\n",
              "    <tr>\n",
              "      <th>count</th>\n",
              "      <td>1233.000000</td>\n",
              "      <td>1233.0</td>\n",
              "      <td>1233.000000</td>\n",
              "      <td>1233.000000</td>\n",
              "      <td>1233.000000</td>\n",
              "      <td>1233.000000</td>\n",
              "      <td>1233.000000</td>\n",
              "      <td>1233.000000</td>\n",
              "      <td>1233.000000</td>\n",
              "      <td>1233.000000</td>\n",
              "      <td>1233.000000</td>\n",
              "      <td>1233.000000</td>\n",
              "      <td>1233.00000</td>\n",
              "      <td>1233.000000</td>\n",
              "      <td>1233.000000</td>\n",
              "      <td>1233.000000</td>\n",
              "      <td>1233.000000</td>\n",
              "      <td>1233.000000</td>\n",
              "      <td>1233.000000</td>\n",
              "      <td>1233.000000</td>\n",
              "      <td>1233.000000</td>\n",
              "      <td>1233.000000</td>\n",
              "      <td>1233.000000</td>\n",
              "      <td>1233.000000</td>\n",
              "      <td>1233.000000</td>\n",
              "    </tr>\n",
              "    <tr>\n",
              "      <th>mean</th>\n",
              "      <td>37.561233</td>\n",
              "      <td>0.0</td>\n",
              "      <td>812.504461</td>\n",
              "      <td>8.915653</td>\n",
              "      <td>2.927007</td>\n",
              "      <td>2.771290</td>\n",
              "      <td>65.952149</td>\n",
              "      <td>2.770479</td>\n",
              "      <td>2.145985</td>\n",
              "      <td>2.778589</td>\n",
              "      <td>6832.739659</td>\n",
              "      <td>14265.779400</td>\n",
              "      <td>2.64558</td>\n",
              "      <td>0.234388</td>\n",
              "      <td>15.231144</td>\n",
              "      <td>3.153285</td>\n",
              "      <td>2.733982</td>\n",
              "      <td>0.845093</td>\n",
              "      <td>11.862936</td>\n",
              "      <td>2.832928</td>\n",
              "      <td>2.781022</td>\n",
              "      <td>7.369019</td>\n",
              "      <td>4.484185</td>\n",
              "      <td>2.234388</td>\n",
              "      <td>4.367397</td>\n",
              "    </tr>\n",
              "    <tr>\n",
              "      <th>std</th>\n",
              "      <td>8.888360</td>\n",
              "      <td>0.0</td>\n",
              "      <td>403.208379</td>\n",
              "      <td>8.012633</td>\n",
              "      <td>1.027002</td>\n",
              "      <td>1.071132</td>\n",
              "      <td>20.380754</td>\n",
              "      <td>0.692050</td>\n",
              "      <td>1.117933</td>\n",
              "      <td>1.093277</td>\n",
              "      <td>4818.208001</td>\n",
              "      <td>7102.260749</td>\n",
              "      <td>2.46009</td>\n",
              "      <td>0.423787</td>\n",
              "      <td>3.639511</td>\n",
              "      <td>0.360408</td>\n",
              "      <td>1.071603</td>\n",
              "      <td>0.841985</td>\n",
              "      <td>7.760719</td>\n",
              "      <td>1.293585</td>\n",
              "      <td>0.681907</td>\n",
              "      <td>6.096298</td>\n",
              "      <td>3.649402</td>\n",
              "      <td>3.234762</td>\n",
              "      <td>3.594116</td>\n",
              "    </tr>\n",
              "    <tr>\n",
              "      <th>min</th>\n",
              "      <td>18.000000</td>\n",
              "      <td>0.0</td>\n",
              "      <td>102.000000</td>\n",
              "      <td>1.000000</td>\n",
              "      <td>1.000000</td>\n",
              "      <td>1.000000</td>\n",
              "      <td>30.000000</td>\n",
              "      <td>1.000000</td>\n",
              "      <td>1.000000</td>\n",
              "      <td>1.000000</td>\n",
              "      <td>1051.000000</td>\n",
              "      <td>2094.000000</td>\n",
              "      <td>0.00000</td>\n",
              "      <td>0.000000</td>\n",
              "      <td>11.000000</td>\n",
              "      <td>3.000000</td>\n",
              "      <td>1.000000</td>\n",
              "      <td>0.000000</td>\n",
              "      <td>0.000000</td>\n",
              "      <td>0.000000</td>\n",
              "      <td>1.000000</td>\n",
              "      <td>0.000000</td>\n",
              "      <td>0.000000</td>\n",
              "      <td>0.000000</td>\n",
              "      <td>0.000000</td>\n",
              "    </tr>\n",
              "    <tr>\n",
              "      <th>25%</th>\n",
              "      <td>31.000000</td>\n",
              "      <td>0.0</td>\n",
              "      <td>477.000000</td>\n",
              "      <td>2.000000</td>\n",
              "      <td>2.000000</td>\n",
              "      <td>2.000000</td>\n",
              "      <td>48.000000</td>\n",
              "      <td>2.000000</td>\n",
              "      <td>1.000000</td>\n",
              "      <td>2.000000</td>\n",
              "      <td>3211.000000</td>\n",
              "      <td>7973.000000</td>\n",
              "      <td>1.00000</td>\n",
              "      <td>0.000000</td>\n",
              "      <td>12.000000</td>\n",
              "      <td>3.000000</td>\n",
              "      <td>2.000000</td>\n",
              "      <td>0.000000</td>\n",
              "      <td>6.000000</td>\n",
              "      <td>2.000000</td>\n",
              "      <td>2.000000</td>\n",
              "      <td>3.000000</td>\n",
              "      <td>2.000000</td>\n",
              "      <td>0.000000</td>\n",
              "      <td>2.000000</td>\n",
              "    </tr>\n",
              "    <tr>\n",
              "      <th>50%</th>\n",
              "      <td>36.000000</td>\n",
              "      <td>0.0</td>\n",
              "      <td>817.000000</td>\n",
              "      <td>7.000000</td>\n",
              "      <td>3.000000</td>\n",
              "      <td>3.000000</td>\n",
              "      <td>66.000000</td>\n",
              "      <td>3.000000</td>\n",
              "      <td>2.000000</td>\n",
              "      <td>3.000000</td>\n",
              "      <td>5204.000000</td>\n",
              "      <td>14120.000000</td>\n",
              "      <td>2.00000</td>\n",
              "      <td>0.000000</td>\n",
              "      <td>14.000000</td>\n",
              "      <td>3.000000</td>\n",
              "      <td>3.000000</td>\n",
              "      <td>1.000000</td>\n",
              "      <td>10.000000</td>\n",
              "      <td>3.000000</td>\n",
              "      <td>3.000000</td>\n",
              "      <td>6.000000</td>\n",
              "      <td>3.000000</td>\n",
              "      <td>1.000000</td>\n",
              "      <td>3.000000</td>\n",
              "    </tr>\n",
              "    <tr>\n",
              "      <th>75%</th>\n",
              "      <td>43.000000</td>\n",
              "      <td>0.0</td>\n",
              "      <td>1176.000000</td>\n",
              "      <td>13.000000</td>\n",
              "      <td>4.000000</td>\n",
              "      <td>4.000000</td>\n",
              "      <td>83.000000</td>\n",
              "      <td>3.000000</td>\n",
              "      <td>3.000000</td>\n",
              "      <td>4.000000</td>\n",
              "      <td>8834.000000</td>\n",
              "      <td>20364.000000</td>\n",
              "      <td>4.00000</td>\n",
              "      <td>0.000000</td>\n",
              "      <td>18.000000</td>\n",
              "      <td>3.000000</td>\n",
              "      <td>4.000000</td>\n",
              "      <td>1.000000</td>\n",
              "      <td>16.000000</td>\n",
              "      <td>3.000000</td>\n",
              "      <td>3.000000</td>\n",
              "      <td>10.000000</td>\n",
              "      <td>7.000000</td>\n",
              "      <td>3.000000</td>\n",
              "      <td>7.000000</td>\n",
              "    </tr>\n",
              "    <tr>\n",
              "      <th>max</th>\n",
              "      <td>60.000000</td>\n",
              "      <td>0.0</td>\n",
              "      <td>1499.000000</td>\n",
              "      <td>29.000000</td>\n",
              "      <td>5.000000</td>\n",
              "      <td>4.000000</td>\n",
              "      <td>100.000000</td>\n",
              "      <td>4.000000</td>\n",
              "      <td>5.000000</td>\n",
              "      <td>4.000000</td>\n",
              "      <td>19999.000000</td>\n",
              "      <td>26997.000000</td>\n",
              "      <td>9.00000</td>\n",
              "      <td>1.000000</td>\n",
              "      <td>25.000000</td>\n",
              "      <td>4.000000</td>\n",
              "      <td>4.000000</td>\n",
              "      <td>3.000000</td>\n",
              "      <td>38.000000</td>\n",
              "      <td>6.000000</td>\n",
              "      <td>4.000000</td>\n",
              "      <td>37.000000</td>\n",
              "      <td>18.000000</td>\n",
              "      <td>15.000000</td>\n",
              "      <td>17.000000</td>\n",
              "    </tr>\n",
              "  </tbody>\n",
              "</table>\n",
              "</div>"
            ],
            "text/plain": [
              "               Age  Attrition  ...  YearsSinceLastPromotion  YearsWithCurrManager\n",
              "count  1233.000000     1233.0  ...              1233.000000           1233.000000\n",
              "mean     37.561233        0.0  ...                 2.234388              4.367397\n",
              "std       8.888360        0.0  ...                 3.234762              3.594116\n",
              "min      18.000000        0.0  ...                 0.000000              0.000000\n",
              "25%      31.000000        0.0  ...                 0.000000              2.000000\n",
              "50%      36.000000        0.0  ...                 1.000000              3.000000\n",
              "75%      43.000000        0.0  ...                 3.000000              7.000000\n",
              "max      60.000000        0.0  ...                15.000000             17.000000\n",
              "\n",
              "[8 rows x 25 columns]"
            ]
          },
          "metadata": {
            "tags": []
          },
          "execution_count": 22
        }
      ]
    },
    {
      "cell_type": "code",
      "metadata": {
        "id": "D46mLNM3otO_",
        "colab_type": "code",
        "colab": {
          "base_uri": "https://localhost:8080/",
          "height": 320
        },
        "outputId": "8ab4ee57-27a0-459c-b036-0e2417ca2865"
      },
      "source": [
        "left_df.describe()"
      ],
      "execution_count": 23,
      "outputs": [
        {
          "output_type": "execute_result",
          "data": {
            "text/html": [
              "<div>\n",
              "<style scoped>\n",
              "    .dataframe tbody tr th:only-of-type {\n",
              "        vertical-align: middle;\n",
              "    }\n",
              "\n",
              "    .dataframe tbody tr th {\n",
              "        vertical-align: top;\n",
              "    }\n",
              "\n",
              "    .dataframe thead th {\n",
              "        text-align: right;\n",
              "    }\n",
              "</style>\n",
              "<table border=\"1\" class=\"dataframe\">\n",
              "  <thead>\n",
              "    <tr style=\"text-align: right;\">\n",
              "      <th></th>\n",
              "      <th>Age</th>\n",
              "      <th>Attrition</th>\n",
              "      <th>DailyRate</th>\n",
              "      <th>DistanceFromHome</th>\n",
              "      <th>Education</th>\n",
              "      <th>EnvironmentSatisfaction</th>\n",
              "      <th>HourlyRate</th>\n",
              "      <th>JobInvolvement</th>\n",
              "      <th>JobLevel</th>\n",
              "      <th>JobSatisfaction</th>\n",
              "      <th>MonthlyIncome</th>\n",
              "      <th>MonthlyRate</th>\n",
              "      <th>NumCompaniesWorked</th>\n",
              "      <th>OverTime</th>\n",
              "      <th>PercentSalaryHike</th>\n",
              "      <th>PerformanceRating</th>\n",
              "      <th>RelationshipSatisfaction</th>\n",
              "      <th>StockOptionLevel</th>\n",
              "      <th>TotalWorkingYears</th>\n",
              "      <th>TrainingTimesLastYear</th>\n",
              "      <th>WorkLifeBalance</th>\n",
              "      <th>YearsAtCompany</th>\n",
              "      <th>YearsInCurrentRole</th>\n",
              "      <th>YearsSinceLastPromotion</th>\n",
              "      <th>YearsWithCurrManager</th>\n",
              "    </tr>\n",
              "  </thead>\n",
              "  <tbody>\n",
              "    <tr>\n",
              "      <th>count</th>\n",
              "      <td>237.000000</td>\n",
              "      <td>237.0</td>\n",
              "      <td>237.000000</td>\n",
              "      <td>237.000000</td>\n",
              "      <td>237.000000</td>\n",
              "      <td>237.000000</td>\n",
              "      <td>237.000000</td>\n",
              "      <td>237.000000</td>\n",
              "      <td>237.000000</td>\n",
              "      <td>237.000000</td>\n",
              "      <td>237.000000</td>\n",
              "      <td>237.000000</td>\n",
              "      <td>237.000000</td>\n",
              "      <td>237.000000</td>\n",
              "      <td>237.000000</td>\n",
              "      <td>237.000000</td>\n",
              "      <td>237.000000</td>\n",
              "      <td>237.000000</td>\n",
              "      <td>237.000000</td>\n",
              "      <td>237.000000</td>\n",
              "      <td>237.000000</td>\n",
              "      <td>237.000000</td>\n",
              "      <td>237.000000</td>\n",
              "      <td>237.000000</td>\n",
              "      <td>237.000000</td>\n",
              "    </tr>\n",
              "    <tr>\n",
              "      <th>mean</th>\n",
              "      <td>33.607595</td>\n",
              "      <td>1.0</td>\n",
              "      <td>750.362869</td>\n",
              "      <td>10.632911</td>\n",
              "      <td>2.839662</td>\n",
              "      <td>2.464135</td>\n",
              "      <td>65.573840</td>\n",
              "      <td>2.518987</td>\n",
              "      <td>1.637131</td>\n",
              "      <td>2.468354</td>\n",
              "      <td>4787.092827</td>\n",
              "      <td>14559.308017</td>\n",
              "      <td>2.940928</td>\n",
              "      <td>0.535865</td>\n",
              "      <td>15.097046</td>\n",
              "      <td>3.156118</td>\n",
              "      <td>2.599156</td>\n",
              "      <td>0.527426</td>\n",
              "      <td>8.244726</td>\n",
              "      <td>2.624473</td>\n",
              "      <td>2.658228</td>\n",
              "      <td>5.130802</td>\n",
              "      <td>2.902954</td>\n",
              "      <td>1.945148</td>\n",
              "      <td>2.852321</td>\n",
              "    </tr>\n",
              "    <tr>\n",
              "      <th>std</th>\n",
              "      <td>9.689350</td>\n",
              "      <td>0.0</td>\n",
              "      <td>401.899519</td>\n",
              "      <td>8.452525</td>\n",
              "      <td>1.008244</td>\n",
              "      <td>1.169791</td>\n",
              "      <td>20.099958</td>\n",
              "      <td>0.773405</td>\n",
              "      <td>0.940594</td>\n",
              "      <td>1.118058</td>\n",
              "      <td>3640.210367</td>\n",
              "      <td>7208.153264</td>\n",
              "      <td>2.678519</td>\n",
              "      <td>0.499768</td>\n",
              "      <td>3.770294</td>\n",
              "      <td>0.363735</td>\n",
              "      <td>1.125437</td>\n",
              "      <td>0.856361</td>\n",
              "      <td>7.169204</td>\n",
              "      <td>1.254784</td>\n",
              "      <td>0.816453</td>\n",
              "      <td>5.949984</td>\n",
              "      <td>3.174827</td>\n",
              "      <td>3.153077</td>\n",
              "      <td>3.143349</td>\n",
              "    </tr>\n",
              "    <tr>\n",
              "      <th>min</th>\n",
              "      <td>18.000000</td>\n",
              "      <td>1.0</td>\n",
              "      <td>103.000000</td>\n",
              "      <td>1.000000</td>\n",
              "      <td>1.000000</td>\n",
              "      <td>1.000000</td>\n",
              "      <td>31.000000</td>\n",
              "      <td>1.000000</td>\n",
              "      <td>1.000000</td>\n",
              "      <td>1.000000</td>\n",
              "      <td>1009.000000</td>\n",
              "      <td>2326.000000</td>\n",
              "      <td>0.000000</td>\n",
              "      <td>0.000000</td>\n",
              "      <td>11.000000</td>\n",
              "      <td>3.000000</td>\n",
              "      <td>1.000000</td>\n",
              "      <td>0.000000</td>\n",
              "      <td>0.000000</td>\n",
              "      <td>0.000000</td>\n",
              "      <td>1.000000</td>\n",
              "      <td>0.000000</td>\n",
              "      <td>0.000000</td>\n",
              "      <td>0.000000</td>\n",
              "      <td>0.000000</td>\n",
              "    </tr>\n",
              "    <tr>\n",
              "      <th>25%</th>\n",
              "      <td>28.000000</td>\n",
              "      <td>1.0</td>\n",
              "      <td>408.000000</td>\n",
              "      <td>3.000000</td>\n",
              "      <td>2.000000</td>\n",
              "      <td>1.000000</td>\n",
              "      <td>50.000000</td>\n",
              "      <td>2.000000</td>\n",
              "      <td>1.000000</td>\n",
              "      <td>1.000000</td>\n",
              "      <td>2373.000000</td>\n",
              "      <td>8870.000000</td>\n",
              "      <td>1.000000</td>\n",
              "      <td>0.000000</td>\n",
              "      <td>12.000000</td>\n",
              "      <td>3.000000</td>\n",
              "      <td>2.000000</td>\n",
              "      <td>0.000000</td>\n",
              "      <td>3.000000</td>\n",
              "      <td>2.000000</td>\n",
              "      <td>2.000000</td>\n",
              "      <td>1.000000</td>\n",
              "      <td>0.000000</td>\n",
              "      <td>0.000000</td>\n",
              "      <td>0.000000</td>\n",
              "    </tr>\n",
              "    <tr>\n",
              "      <th>50%</th>\n",
              "      <td>32.000000</td>\n",
              "      <td>1.0</td>\n",
              "      <td>699.000000</td>\n",
              "      <td>9.000000</td>\n",
              "      <td>3.000000</td>\n",
              "      <td>3.000000</td>\n",
              "      <td>66.000000</td>\n",
              "      <td>3.000000</td>\n",
              "      <td>1.000000</td>\n",
              "      <td>3.000000</td>\n",
              "      <td>3202.000000</td>\n",
              "      <td>14618.000000</td>\n",
              "      <td>1.000000</td>\n",
              "      <td>1.000000</td>\n",
              "      <td>14.000000</td>\n",
              "      <td>3.000000</td>\n",
              "      <td>3.000000</td>\n",
              "      <td>0.000000</td>\n",
              "      <td>7.000000</td>\n",
              "      <td>2.000000</td>\n",
              "      <td>3.000000</td>\n",
              "      <td>3.000000</td>\n",
              "      <td>2.000000</td>\n",
              "      <td>1.000000</td>\n",
              "      <td>2.000000</td>\n",
              "    </tr>\n",
              "    <tr>\n",
              "      <th>75%</th>\n",
              "      <td>39.000000</td>\n",
              "      <td>1.0</td>\n",
              "      <td>1092.000000</td>\n",
              "      <td>17.000000</td>\n",
              "      <td>4.000000</td>\n",
              "      <td>4.000000</td>\n",
              "      <td>84.000000</td>\n",
              "      <td>3.000000</td>\n",
              "      <td>2.000000</td>\n",
              "      <td>3.000000</td>\n",
              "      <td>5916.000000</td>\n",
              "      <td>21081.000000</td>\n",
              "      <td>5.000000</td>\n",
              "      <td>1.000000</td>\n",
              "      <td>17.000000</td>\n",
              "      <td>3.000000</td>\n",
              "      <td>4.000000</td>\n",
              "      <td>1.000000</td>\n",
              "      <td>10.000000</td>\n",
              "      <td>3.000000</td>\n",
              "      <td>3.000000</td>\n",
              "      <td>7.000000</td>\n",
              "      <td>4.000000</td>\n",
              "      <td>2.000000</td>\n",
              "      <td>5.000000</td>\n",
              "    </tr>\n",
              "    <tr>\n",
              "      <th>max</th>\n",
              "      <td>58.000000</td>\n",
              "      <td>1.0</td>\n",
              "      <td>1496.000000</td>\n",
              "      <td>29.000000</td>\n",
              "      <td>5.000000</td>\n",
              "      <td>4.000000</td>\n",
              "      <td>100.000000</td>\n",
              "      <td>4.000000</td>\n",
              "      <td>5.000000</td>\n",
              "      <td>4.000000</td>\n",
              "      <td>19859.000000</td>\n",
              "      <td>26999.000000</td>\n",
              "      <td>9.000000</td>\n",
              "      <td>1.000000</td>\n",
              "      <td>25.000000</td>\n",
              "      <td>4.000000</td>\n",
              "      <td>4.000000</td>\n",
              "      <td>3.000000</td>\n",
              "      <td>40.000000</td>\n",
              "      <td>6.000000</td>\n",
              "      <td>4.000000</td>\n",
              "      <td>40.000000</td>\n",
              "      <td>15.000000</td>\n",
              "      <td>15.000000</td>\n",
              "      <td>14.000000</td>\n",
              "    </tr>\n",
              "  </tbody>\n",
              "</table>\n",
              "</div>"
            ],
            "text/plain": [
              "              Age  Attrition  ...  YearsSinceLastPromotion  YearsWithCurrManager\n",
              "count  237.000000      237.0  ...               237.000000            237.000000\n",
              "mean    33.607595        1.0  ...                 1.945148              2.852321\n",
              "std      9.689350        0.0  ...                 3.153077              3.143349\n",
              "min     18.000000        1.0  ...                 0.000000              0.000000\n",
              "25%     28.000000        1.0  ...                 0.000000              0.000000\n",
              "50%     32.000000        1.0  ...                 1.000000              2.000000\n",
              "75%     39.000000        1.0  ...                 2.000000              5.000000\n",
              "max     58.000000        1.0  ...                15.000000             14.000000\n",
              "\n",
              "[8 rows x 25 columns]"
            ]
          },
          "metadata": {
            "tags": []
          },
          "execution_count": 23
        }
      ]
    },
    {
      "cell_type": "markdown",
      "metadata": {
        "id": "Ko43zVjG7011",
        "colab_type": "text"
      },
      "source": [
        "'Age', 'Daily rate' 'Total working years', 'work life balance', 'Years with current manager' of employess who stayed is higher.\n",
        "\n",
        "'Distance from home', 'Overtime work' for employees who left is more.\n",
        "\n",
        "'Environmental Satisfaction', 'Jon involvement', 'Job satisfaction', 'Relationship Satisfaction', 'Years since last promotion' for employees who left is less\n"
      ]
    },
    {
      "cell_type": "markdown",
      "metadata": {
        "id": "ijX8s1vi70s3",
        "colab_type": "text"
      },
      "source": [
        "### Calculate correlations"
      ]
    },
    {
      "cell_type": "code",
      "metadata": {
        "id": "WuEo4Cu5oVM1",
        "colab_type": "code",
        "colab": {
          "base_uri": "https://localhost:8080/",
          "height": 1000
        },
        "outputId": "4942c8a6-29dd-4dc5-c6fb-6f2394f36960"
      },
      "source": [
        "corr = df2.corr()\n",
        "mask = np.zeros_like(corr, dtype=np.bool)\n",
        "mask[np.triu_indices_from(mask)]= True\n",
        " \n",
        "# Heatmap\n",
        "plt.figure(figsize=(20,20))\n",
        "sns.heatmap(corr,  annot=True, fmt=\".2f\", mask = mask)\n",
        "plt.show()"
      ],
      "execution_count": 24,
      "outputs": [
        {
          "output_type": "display_data",
          "data": {
            "image/png": "[encoded data removed]",
            "text/plain": [
              "<Figure size 1440x1440 with 2 Axes>"
            ]
          },
          "metadata": {
            "tags": [],
            "needs_background": "light"
          }
        }
      ]
    },
    {
      "cell_type": "markdown",
      "metadata": {
        "id": "XVJitASi5YUs",
        "colab_type": "text"
      },
      "source": [
        "'Age' is highly correlated with 'Total Working Years'.\n",
        "\n",
        "'Monthly income' is highly correlated with 'Job Level'\n",
        "\n",
        "'Performance Rating' is highly correlated with 'Performance Salary hike'\n",
        "\n",
        "'Total working years' is highly correlated with 'Job level' and 'Monthly income'\n",
        "\n",
        "'Years in current role', 'Years since last promotion', 'Years with current manager' if highly correlated t each other "
      ]
    },
    {
      "cell_type": "markdown",
      "metadata": {
        "id": "azwZX_VS5YRm",
        "colab_type": "text"
      },
      "source": [
        "These correlations are obvious because as Age, total working years increases. More Job level means more income. Good performance means more salary hike."
      ]
    },
    {
      "cell_type": "markdown",
      "metadata": {
        "id": "KmSZQ8FICpWh",
        "colab_type": "text"
      },
      "source": [
        "### Categorical features analysis"
      ]
    },
    {
      "cell_type": "code",
      "metadata": {
        "id": "klTvkHuh-ZwU",
        "colab_type": "code",
        "colab": {
          "base_uri": "https://localhost:8080/",
          "height": 438
        },
        "outputId": "ad5aebcf-a4c6-4f20-9e72-2fc39a6d371a"
      },
      "source": [
        "plt.figure(figsize=(20,7))\n",
        "plt.subplots_adjust(wspace=0.5)\n",
        "plt.subplot(131)\n",
        "sns.countplot(y = 'JobSatisfaction', hue = 'Attrition', data = df)#, order = df['Department'].value_counts().index)\n",
        "plt.subplot(132)\n",
        "sns.countplot(y = 'Education', hue = 'Attrition', data = df)# order = df['Education'].value_counts().index)\n",
        "plt.subplot(133)\n",
        "sns.countplot(y = 'EducationField', hue = 'Attrition', data = df, order = df['EducationField'].value_counts().index)"
      ],
      "execution_count": 25,
      "outputs": [
        {
          "output_type": "execute_result",
          "data": {
            "text/plain": [
              "<matplotlib.axes._subplots.AxesSubplot at 0x7ffa6daaafd0>"
            ]
          },
          "metadata": {
            "tags": []
          },
          "execution_count": 25
        },
        {
          "output_type": "display_data",
          "data": {
            "image/png": "[encoded data removed]",
            "text/plain": [
              "<Figure size 1440x504 with 3 Axes>"
            ]
          },
          "metadata": {
            "tags": [],
            "needs_background": "light"
          }
        }
      ]
    },
    {
      "cell_type": "code",
      "metadata": {
        "id": "QZZ7oclt-jFI",
        "colab_type": "code",
        "colab": {
          "base_uri": "https://localhost:8080/",
          "height": 397
        },
        "outputId": "802944d1-401c-44a2-bdaa-375612a7f45d"
      },
      "source": [
        "plt.figure(figsize=(20,7))\n",
        "plt.subplots_adjust(wspace=0.5)\n",
        "plt.subplot(131)\n",
        "sns.countplot(y = 'JobRole', hue = 'Attrition', data = df, order = df['JobRole'].value_counts().index)\n",
        "plt.subplot(132)\n",
        "sns.countplot(y = 'JobInvolvement', hue = 'Attrition', data = df)# order = df['JobInvolvement'].value_counts().index)\n",
        "plt.subplot(133)\n",
        "sns.countplot(y = 'JobLevel', hue = 'Attrition', data = df, order = df['JobLevel'].value_counts().index)"
      ],
      "execution_count": 26,
      "outputs": [
        {
          "output_type": "execute_result",
          "data": {
            "text/plain": [
              "<matplotlib.axes._subplots.AxesSubplot at 0x7ffa6d93c048>"
            ]
          },
          "metadata": {
            "tags": []
          },
          "execution_count": 26
        },
        {
          "output_type": "display_data",
          "data": {
            "image/png": "[encoded data removed]",
            "text/plain": [
              "<Figure size 1440x504 with 3 Axes>"
            ]
          },
          "metadata": {
            "tags": [],
            "needs_background": "light"
          }
        }
      ]
    },
    {
      "cell_type": "code",
      "metadata": {
        "id": "W3WYoWT8-EBk",
        "colab_type": "code",
        "colab": {
          "base_uri": "https://localhost:8080/",
          "height": 425
        },
        "outputId": "0109ee77-4ebf-4c40-beee-0359137b767d"
      },
      "source": [
        "plt.figure(figsize=(20,7))\n",
        "plt.subplots_adjust(wspace=0.5)\n",
        "plt.subplot(131)\n",
        "sns.countplot(y = 'MaritalStatus', hue = 'Attrition', data = df, order = df['MaritalStatus'].value_counts().index)\n",
        "plt.subplot(132)\n",
        "sns.countplot(y = 'NumCompaniesWorked', hue = 'Attrition', data = df)# order = df['JobInvolvement'].value_counts().index)\n",
        "plt.subplot(133)\n",
        "sns.countplot(y = 'PerformanceRating', hue = 'Attrition', data = df, order = df['PerformanceRating'].value_counts().index)"
      ],
      "execution_count": 27,
      "outputs": [
        {
          "output_type": "execute_result",
          "data": {
            "text/plain": [
              "<matplotlib.axes._subplots.AxesSubplot at 0x7ffa6d7fb438>"
            ]
          },
          "metadata": {
            "tags": []
          },
          "execution_count": 27
        },
        {
          "output_type": "display_data",
          "data": {
            "image/png": "[encoded data removed]",
            "text/plain": [
              "<Figure size 1440x504 with 3 Axes>"
            ]
          },
          "metadata": {
            "tags": [],
            "needs_background": "light"
          }
        }
      ]
    },
    {
      "cell_type": "markdown",
      "metadata": {
        "id": "GvRoXP6g6yrC",
        "colab_type": "text"
      },
      "source": [
        "### Numerical feature analysis"
      ]
    },
    {
      "cell_type": "code",
      "metadata": {
        "id": "Ez4EqYx9-F2a",
        "colab_type": "code",
        "colab": {
          "base_uri": "https://localhost:8080/",
          "height": 342
        },
        "outputId": "3fb12fe2-fc52-4bd2-8d30-baccbbc9a1de"
      },
      "source": [
        "plt.figure(figsize=(20,5))\n",
        "plt.subplot(131)\n",
        "plt.subplots_adjust(wspace=0.5)\n",
        "plt.xlabel('DailyRate')\n",
        "sns.kdeplot(left_df.DailyRate, shade = True, label = 'left', color = 'b')\n",
        "sns.kdeplot(stayed_df.DailyRate, shade = True, label = 'stayed' , color = 'r')\n",
        "plt.subplot(132)\n",
        "plt.xlabel('MonthlyRate')\n",
        "sns.kdeplot(left_df.MonthlyRate, shade = True, label = 'left', color = 'b')\n",
        "sns.kdeplot(stayed_df.MonthlyRate, shade = True, label = 'stayed' , color = 'r')\n",
        "plt.subplot(133)\n",
        "plt.xlabel('HourlyRate')\n",
        "sns.kdeplot(left_df.HourlyRate, shade = True, label = 'left', color = 'b')\n",
        "sns.kdeplot(stayed_df.HourlyRate, shade = True, label = 'stayed' , color = 'r')"
      ],
      "execution_count": 28,
      "outputs": [
        {
          "output_type": "execute_result",
          "data": {
            "text/plain": [
              "<matplotlib.axes._subplots.AxesSubplot at 0x7ffa74d7c5f8>"
            ]
          },
          "metadata": {
            "tags": []
          },
          "execution_count": 28
        },
        {
          "output_type": "display_data",
          "data": {
            "image/png": "[encoded data removed]",
            "text/plain": [
              "<Figure size 1440x360 with 3 Axes>"
            ]
          },
          "metadata": {
            "tags": [],
            "needs_background": "light"
          }
        }
      ]
    },
    {
      "cell_type": "markdown",
      "metadata": {
        "id": "96jAfCwerJo-",
        "colab_type": "text"
      },
      "source": [
        "Employee with more hourly, daily and monthly rate stayed in company."
      ]
    },
    {
      "cell_type": "code",
      "metadata": {
        "id": "Np-xjTJGIIym",
        "colab_type": "code",
        "colab": {
          "base_uri": "https://localhost:8080/",
          "height": 327
        },
        "outputId": "e38716fb-1c7d-4296-fca1-731cfa66c38c"
      },
      "source": [
        "plt.figure(figsize=(20,5))\n",
        "plt.subplot(131)\n",
        "plt.subplots_adjust(wspace=0.5)\n",
        "plt.xlabel('MonthlyIncome')\n",
        "sns.kdeplot(left_df.MonthlyIncome, shade = True, label = 'left', color = 'b')\n",
        "sns.kdeplot(stayed_df.MonthlyIncome, shade = True, label = 'stayed' , color = 'r')\n",
        "plt.subplot(132)\n",
        "plt.xlabel('DistanceFromHome')\n",
        "sns.kdeplot(left_df.DistanceFromHome, shade = True, label = 'left', color = 'b')\n",
        "sns.kdeplot(stayed_df.DistanceFromHome, shade = True, label = 'stayed' , color = 'r')\n",
        "plt.subplot(133)\n",
        "plt.xlabel('PercentSalaryHike')\n",
        "sns.kdeplot(left_df.PercentSalaryHike, shade = True, label = 'left', color = 'b')\n",
        "sns.kdeplot(stayed_df.PercentSalaryHike, shade = True, label = 'stayed' , color = 'r')"
      ],
      "execution_count": 29,
      "outputs": [
        {
          "output_type": "execute_result",
          "data": {
            "text/plain": [
              "<matplotlib.axes._subplots.AxesSubplot at 0x7ffa70468f28>"
            ]
          },
          "metadata": {
            "tags": []
          },
          "execution_count": 29
        },
        {
          "output_type": "display_data",
          "data": {
            "image/png": "[encoded data removed]",
            "text/plain": [
              "<Figure size 1440x360 with 3 Axes>"
            ]
          },
          "metadata": {
            "tags": [],
            "needs_background": "light"
          }
        }
      ]
    },
    {
      "cell_type": "markdown",
      "metadata": {
        "id": "etsmtvpzq3jF",
        "colab_type": "text"
      },
      "source": [
        "Employee with less monthly income left\n",
        "\n",
        "Employee with more distance from home usually left\n",
        "\n",
        "Employee with salary hike stayed"
      ]
    },
    {
      "cell_type": "code",
      "metadata": {
        "id": "RARCrmtfIaO0",
        "colab_type": "code",
        "colab": {
          "base_uri": "https://localhost:8080/",
          "height": 334
        },
        "outputId": "96f327a3-6bcf-4c6f-dbe5-654b5b01b41b"
      },
      "source": [
        "plt.figure(figsize=(15, 5))\n",
        "sns.boxplot(x = 'MonthlyIncome', y = 'Gender', data = df)\n",
        "plt.show()"
      ],
      "execution_count": 30,
      "outputs": [
        {
          "output_type": "display_data",
          "data": {
            "image/png": "[encoded data removed]",
            "text/plain": [
              "<Figure size 1080x360 with 1 Axes>"
            ]
          },
          "metadata": {
            "tags": [],
            "needs_background": "light"
          }
        }
      ]
    },
    {
      "cell_type": "markdown",
      "metadata": {
        "id": "fVUh7rXaspU-",
        "colab_type": "text"
      },
      "source": [
        "Female get paid more as comapred to male."
      ]
    },
    {
      "cell_type": "code",
      "metadata": {
        "id": "m4SKulBxIn69",
        "colab_type": "code",
        "colab": {
          "base_uri": "https://localhost:8080/",
          "height": 334
        },
        "outputId": "78b3588b-9c02-48ca-8dab-29245b8591a7"
      },
      "source": [
        "plt.figure(figsize=(15, 5))\n",
        "sns.boxplot(x = 'MonthlyIncome', y = 'JobRole', data = df)\n",
        "plt.show()"
      ],
      "execution_count": 31,
      "outputs": [
        {
          "output_type": "display_data",
          "data": {
            "image/png": "[encoded data removed]",
            "text/plain": [
              "<Figure size 1080x360 with 1 Axes>"
            ]
          },
          "metadata": {
            "tags": [],
            "needs_background": "light"
          }
        }
      ]
    },
    {
      "cell_type": "markdown",
      "metadata": {
        "id": "Dw8g1-TFsxdL",
        "colab_type": "text"
      },
      "source": [
        "Research Director and Manager are paid much more as compared to other jobs."
      ]
    },
    {
      "cell_type": "markdown",
      "metadata": {
        "id": "Bisk3oUkI25M",
        "colab_type": "text"
      },
      "source": [
        "# Data Preprocessing"
      ]
    },
    {
      "cell_type": "markdown",
      "metadata": {
        "id": "hBSUDt2WKGf-",
        "colab_type": "text"
      },
      "source": [
        "### Define X&Y ###"
      ]
    },
    {
      "cell_type": "code",
      "metadata": {
        "id": "q6GmorvJIpfX",
        "colab_type": "code",
        "colab": {
          "base_uri": "https://localhost:8080/",
          "height": 35
        },
        "outputId": "00722f22-412d-4963-cc8b-36e4f1cc51f3"
      },
      "source": [
        "df2.shape"
      ],
      "execution_count": 32,
      "outputs": [
        {
          "output_type": "execute_result",
          "data": {
            "text/plain": [
              "(1470, 31)"
            ]
          },
          "metadata": {
            "tags": []
          },
          "execution_count": 32
        }
      ]
    },
    {
      "cell_type": "code",
      "metadata": {
        "id": "w3sAdVRlI7b4",
        "colab_type": "code",
        "colab": {
          "base_uri": "https://localhost:8080/",
          "height": 313
        },
        "outputId": "0a20c797-f7b6-4702-bad2-f2641317308c"
      },
      "source": [
        "df2.head()"
      ],
      "execution_count": 33,
      "outputs": [
        {
          "output_type": "execute_result",
          "data": {
            "text/html": [
              "<div>\n",
              "<style scoped>\n",
              "    .dataframe tbody tr th:only-of-type {\n",
              "        vertical-align: middle;\n",
              "    }\n",
              "\n",
              "    .dataframe tbody tr th {\n",
              "        vertical-align: top;\n",
              "    }\n",
              "\n",
              "    .dataframe thead th {\n",
              "        text-align: right;\n",
              "    }\n",
              "</style>\n",
              "<table border=\"1\" class=\"dataframe\">\n",
              "  <thead>\n",
              "    <tr style=\"text-align: right;\">\n",
              "      <th></th>\n",
              "      <th>Age</th>\n",
              "      <th>Attrition</th>\n",
              "      <th>BusinessTravel</th>\n",
              "      <th>DailyRate</th>\n",
              "      <th>Department</th>\n",
              "      <th>DistanceFromHome</th>\n",
              "      <th>Education</th>\n",
              "      <th>EducationField</th>\n",
              "      <th>EnvironmentSatisfaction</th>\n",
              "      <th>Gender</th>\n",
              "      <th>HourlyRate</th>\n",
              "      <th>JobInvolvement</th>\n",
              "      <th>JobLevel</th>\n",
              "      <th>JobRole</th>\n",
              "      <th>JobSatisfaction</th>\n",
              "      <th>MaritalStatus</th>\n",
              "      <th>MonthlyIncome</th>\n",
              "      <th>MonthlyRate</th>\n",
              "      <th>NumCompaniesWorked</th>\n",
              "      <th>OverTime</th>\n",
              "      <th>PercentSalaryHike</th>\n",
              "      <th>PerformanceRating</th>\n",
              "      <th>RelationshipSatisfaction</th>\n",
              "      <th>StockOptionLevel</th>\n",
              "      <th>TotalWorkingYears</th>\n",
              "      <th>TrainingTimesLastYear</th>\n",
              "      <th>WorkLifeBalance</th>\n",
              "      <th>YearsAtCompany</th>\n",
              "      <th>YearsInCurrentRole</th>\n",
              "      <th>YearsSinceLastPromotion</th>\n",
              "      <th>YearsWithCurrManager</th>\n",
              "    </tr>\n",
              "  </thead>\n",
              "  <tbody>\n",
              "    <tr>\n",
              "      <th>0</th>\n",
              "      <td>41</td>\n",
              "      <td>1</td>\n",
              "      <td>Travel_Rarely</td>\n",
              "      <td>1102</td>\n",
              "      <td>Sales</td>\n",
              "      <td>1</td>\n",
              "      <td>2</td>\n",
              "      <td>Life Sciences</td>\n",
              "      <td>2</td>\n",
              "      <td>Female</td>\n",
              "      <td>94</td>\n",
              "      <td>3</td>\n",
              "      <td>2</td>\n",
              "      <td>Sales Executive</td>\n",
              "      <td>4</td>\n",
              "      <td>Single</td>\n",
              "      <td>5993</td>\n",
              "      <td>19479</td>\n",
              "      <td>8</td>\n",
              "      <td>1</td>\n",
              "      <td>11</td>\n",
              "      <td>3</td>\n",
              "      <td>1</td>\n",
              "      <td>0</td>\n",
              "      <td>8</td>\n",
              "      <td>0</td>\n",
              "      <td>1</td>\n",
              "      <td>6</td>\n",
              "      <td>4</td>\n",
              "      <td>0</td>\n",
              "      <td>5</td>\n",
              "    </tr>\n",
              "    <tr>\n",
              "      <th>1</th>\n",
              "      <td>49</td>\n",
              "      <td>0</td>\n",
              "      <td>Travel_Frequently</td>\n",
              "      <td>279</td>\n",
              "      <td>Research &amp; Development</td>\n",
              "      <td>8</td>\n",
              "      <td>1</td>\n",
              "      <td>Life Sciences</td>\n",
              "      <td>3</td>\n",
              "      <td>Male</td>\n",
              "      <td>61</td>\n",
              "      <td>2</td>\n",
              "      <td>2</td>\n",
              "      <td>Research Scientist</td>\n",
              "      <td>2</td>\n",
              "      <td>Married</td>\n",
              "      <td>5130</td>\n",
              "      <td>24907</td>\n",
              "      <td>1</td>\n",
              "      <td>0</td>\n",
              "      <td>23</td>\n",
              "      <td>4</td>\n",
              "      <td>4</td>\n",
              "      <td>1</td>\n",
              "      <td>10</td>\n",
              "      <td>3</td>\n",
              "      <td>3</td>\n",
              "      <td>10</td>\n",
              "      <td>7</td>\n",
              "      <td>1</td>\n",
              "      <td>7</td>\n",
              "    </tr>\n",
              "    <tr>\n",
              "      <th>2</th>\n",
              "      <td>37</td>\n",
              "      <td>1</td>\n",
              "      <td>Travel_Rarely</td>\n",
              "      <td>1373</td>\n",
              "      <td>Research &amp; Development</td>\n",
              "      <td>2</td>\n",
              "      <td>2</td>\n",
              "      <td>Other</td>\n",
              "      <td>4</td>\n",
              "      <td>Male</td>\n",
              "      <td>92</td>\n",
              "      <td>2</td>\n",
              "      <td>1</td>\n",
              "      <td>Laboratory Technician</td>\n",
              "      <td>3</td>\n",
              "      <td>Single</td>\n",
              "      <td>2090</td>\n",
              "      <td>2396</td>\n",
              "      <td>6</td>\n",
              "      <td>1</td>\n",
              "      <td>15</td>\n",
              "      <td>3</td>\n",
              "      <td>2</td>\n",
              "      <td>0</td>\n",
              "      <td>7</td>\n",
              "      <td>3</td>\n",
              "      <td>3</td>\n",
              "      <td>0</td>\n",
              "      <td>0</td>\n",
              "      <td>0</td>\n",
              "      <td>0</td>\n",
              "    </tr>\n",
              "    <tr>\n",
              "      <th>3</th>\n",
              "      <td>33</td>\n",
              "      <td>0</td>\n",
              "      <td>Travel_Frequently</td>\n",
              "      <td>1392</td>\n",
              "      <td>Research &amp; Development</td>\n",
              "      <td>3</td>\n",
              "      <td>4</td>\n",
              "      <td>Life Sciences</td>\n",
              "      <td>4</td>\n",
              "      <td>Female</td>\n",
              "      <td>56</td>\n",
              "      <td>3</td>\n",
              "      <td>1</td>\n",
              "      <td>Research Scientist</td>\n",
              "      <td>3</td>\n",
              "      <td>Married</td>\n",
              "      <td>2909</td>\n",
              "      <td>23159</td>\n",
              "      <td>1</td>\n",
              "      <td>1</td>\n",
              "      <td>11</td>\n",
              "      <td>3</td>\n",
              "      <td>3</td>\n",
              "      <td>0</td>\n",
              "      <td>8</td>\n",
              "      <td>3</td>\n",
              "      <td>3</td>\n",
              "      <td>8</td>\n",
              "      <td>7</td>\n",
              "      <td>3</td>\n",
              "      <td>0</td>\n",
              "    </tr>\n",
              "    <tr>\n",
              "      <th>4</th>\n",
              "      <td>27</td>\n",
              "      <td>0</td>\n",
              "      <td>Travel_Rarely</td>\n",
              "      <td>591</td>\n",
              "      <td>Research &amp; Development</td>\n",
              "      <td>2</td>\n",
              "      <td>1</td>\n",
              "      <td>Medical</td>\n",
              "      <td>1</td>\n",
              "      <td>Male</td>\n",
              "      <td>40</td>\n",
              "      <td>3</td>\n",
              "      <td>1</td>\n",
              "      <td>Laboratory Technician</td>\n",
              "      <td>2</td>\n",
              "      <td>Married</td>\n",
              "      <td>3468</td>\n",
              "      <td>16632</td>\n",
              "      <td>9</td>\n",
              "      <td>0</td>\n",
              "      <td>12</td>\n",
              "      <td>3</td>\n",
              "      <td>4</td>\n",
              "      <td>1</td>\n",
              "      <td>6</td>\n",
              "      <td>3</td>\n",
              "      <td>3</td>\n",
              "      <td>2</td>\n",
              "      <td>2</td>\n",
              "      <td>2</td>\n",
              "      <td>2</td>\n",
              "    </tr>\n",
              "  </tbody>\n",
              "</table>\n",
              "</div>"
            ],
            "text/plain": [
              "   Age  Attrition  ... YearsSinceLastPromotion  YearsWithCurrManager\n",
              "0   41          1  ...                       0                     5\n",
              "1   49          0  ...                       1                     7\n",
              "2   37          1  ...                       0                     0\n",
              "3   33          0  ...                       3                     0\n",
              "4   27          0  ...                       2                     2\n",
              "\n",
              "[5 rows x 31 columns]"
            ]
          },
          "metadata": {
            "tags": []
          },
          "execution_count": 33
        }
      ]
    },
    {
      "cell_type": "code",
      "metadata": {
        "id": "3b_G51EPJBa3",
        "colab_type": "code",
        "colab": {
          "base_uri": "https://localhost:8080/",
          "height": 35
        },
        "outputId": "553abe1a-d5f4-42f1-8bc0-261f95dd83d7"
      },
      "source": [
        "y = df2['Attrition']\n",
        "y.shape"
      ],
      "execution_count": 34,
      "outputs": [
        {
          "output_type": "execute_result",
          "data": {
            "text/plain": [
              "(1470,)"
            ]
          },
          "metadata": {
            "tags": []
          },
          "execution_count": 34
        }
      ]
    },
    {
      "cell_type": "code",
      "metadata": {
        "id": "dPQpJe3tJEgr",
        "colab_type": "code",
        "colab": {
          "base_uri": "https://localhost:8080/",
          "height": 35
        },
        "outputId": "107d7224-f52e-4115-8d1e-309d486e93ba"
      },
      "source": [
        "df_drop = df2.drop(['Attrition'], axis = 1)\n",
        "X = df_drop.iloc[:,:].values\n",
        "X.shape"
      ],
      "execution_count": 35,
      "outputs": [
        {
          "output_type": "execute_result",
          "data": {
            "text/plain": [
              "(1470, 30)"
            ]
          },
          "metadata": {
            "tags": []
          },
          "execution_count": 35
        }
      ]
    },
    {
      "cell_type": "markdown",
      "metadata": {
        "id": "eKW4UJjDKKBs",
        "colab_type": "text"
      },
      "source": [
        "### One - Hot Encoding"
      ]
    },
    {
      "cell_type": "code",
      "metadata": {
        "id": "9InAcC8EJGMH",
        "colab_type": "code",
        "colab": {}
      },
      "source": [
        "from sklearn.compose import ColumnTransformer\n",
        "from sklearn.preprocessing import OneHotEncoder\n",
        "ct = ColumnTransformer(transformers=[('encoder', OneHotEncoder(), [1, 3, 6, 8, 12, 14])], remainder='passthrough')\n",
        "X = np.array(ct.fit_transform(X))"
      ],
      "execution_count": 36,
      "outputs": []
    },
    {
      "cell_type": "code",
      "metadata": {
        "id": "8rS_8CZdJ7fF",
        "colab_type": "code",
        "colab": {
          "base_uri": "https://localhost:8080/",
          "height": 202
        },
        "outputId": "8533ab7e-f275-4aa3-eb3d-12db2a6418fa"
      },
      "source": [
        "df2.columns"
      ],
      "execution_count": 37,
      "outputs": [
        {
          "output_type": "execute_result",
          "data": {
            "text/plain": [
              "Index(['Age', 'Attrition', 'BusinessTravel', 'DailyRate', 'Department',\n",
              "       'DistanceFromHome', 'Education', 'EducationField',\n",
              "       'EnvironmentSatisfaction', 'Gender', 'HourlyRate', 'JobInvolvement',\n",
              "       'JobLevel', 'JobRole', 'JobSatisfaction', 'MaritalStatus',\n",
              "       'MonthlyIncome', 'MonthlyRate', 'NumCompaniesWorked', 'OverTime',\n",
              "       'PercentSalaryHike', 'PerformanceRating', 'RelationshipSatisfaction',\n",
              "       'StockOptionLevel', 'TotalWorkingYears', 'TrainingTimesLastYear',\n",
              "       'WorkLifeBalance', 'YearsAtCompany', 'YearsInCurrentRole',\n",
              "       'YearsSinceLastPromotion', 'YearsWithCurrManager'],\n",
              "      dtype='object')"
            ]
          },
          "metadata": {
            "tags": []
          },
          "execution_count": 37
        }
      ]
    },
    {
      "cell_type": "code",
      "metadata": {
        "id": "3JLL2sqHKOB1",
        "colab_type": "code",
        "colab": {
          "base_uri": "https://localhost:8080/",
          "height": 35
        },
        "outputId": "3c92825f-81ce-40cb-d23d-2a8cba3229a0"
      },
      "source": [
        "X = pd.DataFrame(X)\n",
        "X.shape"
      ],
      "execution_count": 38,
      "outputs": [
        {
          "output_type": "execute_result",
          "data": {
            "text/plain": [
              "(1470, 50)"
            ]
          },
          "metadata": {
            "tags": []
          },
          "execution_count": 38
        }
      ]
    },
    {
      "cell_type": "code",
      "metadata": {
        "id": "JSp01AqZweGu",
        "colab_type": "code",
        "colab": {
          "base_uri": "https://localhost:8080/",
          "height": 444
        },
        "outputId": "462460bd-dc4c-4919-9e72-2650f579d0c3"
      },
      "source": [
        "X"
      ],
      "execution_count": 39,
      "outputs": [
        {
          "output_type": "execute_result",
          "data": {
            "text/html": [
              "<div>\n",
              "<style scoped>\n",
              "    .dataframe tbody tr th:only-of-type {\n",
              "        vertical-align: middle;\n",
              "    }\n",
              "\n",
              "    .dataframe tbody tr th {\n",
              "        vertical-align: top;\n",
              "    }\n",
              "\n",
              "    .dataframe thead th {\n",
              "        text-align: right;\n",
              "    }\n",
              "</style>\n",
              "<table border=\"1\" class=\"dataframe\">\n",
              "  <thead>\n",
              "    <tr style=\"text-align: right;\">\n",
              "      <th></th>\n",
              "      <th>0</th>\n",
              "      <th>1</th>\n",
              "      <th>2</th>\n",
              "      <th>3</th>\n",
              "      <th>4</th>\n",
              "      <th>5</th>\n",
              "      <th>6</th>\n",
              "      <th>7</th>\n",
              "      <th>8</th>\n",
              "      <th>9</th>\n",
              "      <th>10</th>\n",
              "      <th>11</th>\n",
              "      <th>12</th>\n",
              "      <th>13</th>\n",
              "      <th>14</th>\n",
              "      <th>15</th>\n",
              "      <th>16</th>\n",
              "      <th>17</th>\n",
              "      <th>18</th>\n",
              "      <th>19</th>\n",
              "      <th>20</th>\n",
              "      <th>21</th>\n",
              "      <th>22</th>\n",
              "      <th>23</th>\n",
              "      <th>24</th>\n",
              "      <th>25</th>\n",
              "      <th>26</th>\n",
              "      <th>27</th>\n",
              "      <th>28</th>\n",
              "      <th>29</th>\n",
              "      <th>30</th>\n",
              "      <th>31</th>\n",
              "      <th>32</th>\n",
              "      <th>33</th>\n",
              "      <th>34</th>\n",
              "      <th>35</th>\n",
              "      <th>36</th>\n",
              "      <th>37</th>\n",
              "      <th>38</th>\n",
              "      <th>39</th>\n",
              "      <th>40</th>\n",
              "      <th>41</th>\n",
              "      <th>42</th>\n",
              "      <th>43</th>\n",
              "      <th>44</th>\n",
              "      <th>45</th>\n",
              "      <th>46</th>\n",
              "      <th>47</th>\n",
              "      <th>48</th>\n",
              "      <th>49</th>\n",
              "    </tr>\n",
              "  </thead>\n",
              "  <tbody>\n",
              "    <tr>\n",
              "      <th>0</th>\n",
              "      <td>0</td>\n",
              "      <td>0</td>\n",
              "      <td>1</td>\n",
              "      <td>0</td>\n",
              "      <td>0</td>\n",
              "      <td>1</td>\n",
              "      <td>0</td>\n",
              "      <td>1</td>\n",
              "      <td>0</td>\n",
              "      <td>0</td>\n",
              "      <td>0</td>\n",
              "      <td>0</td>\n",
              "      <td>1</td>\n",
              "      <td>0</td>\n",
              "      <td>0</td>\n",
              "      <td>0</td>\n",
              "      <td>0</td>\n",
              "      <td>0</td>\n",
              "      <td>0</td>\n",
              "      <td>0</td>\n",
              "      <td>0</td>\n",
              "      <td>1</td>\n",
              "      <td>0</td>\n",
              "      <td>0</td>\n",
              "      <td>0</td>\n",
              "      <td>1</td>\n",
              "      <td>41</td>\n",
              "      <td>1102</td>\n",
              "      <td>1</td>\n",
              "      <td>2</td>\n",
              "      <td>2</td>\n",
              "      <td>94</td>\n",
              "      <td>3</td>\n",
              "      <td>2</td>\n",
              "      <td>4</td>\n",
              "      <td>5993</td>\n",
              "      <td>19479</td>\n",
              "      <td>8</td>\n",
              "      <td>1</td>\n",
              "      <td>11</td>\n",
              "      <td>3</td>\n",
              "      <td>1</td>\n",
              "      <td>0</td>\n",
              "      <td>8</td>\n",
              "      <td>0</td>\n",
              "      <td>1</td>\n",
              "      <td>6</td>\n",
              "      <td>4</td>\n",
              "      <td>0</td>\n",
              "      <td>5</td>\n",
              "    </tr>\n",
              "    <tr>\n",
              "      <th>1</th>\n",
              "      <td>0</td>\n",
              "      <td>1</td>\n",
              "      <td>0</td>\n",
              "      <td>0</td>\n",
              "      <td>1</td>\n",
              "      <td>0</td>\n",
              "      <td>0</td>\n",
              "      <td>1</td>\n",
              "      <td>0</td>\n",
              "      <td>0</td>\n",
              "      <td>0</td>\n",
              "      <td>0</td>\n",
              "      <td>0</td>\n",
              "      <td>1</td>\n",
              "      <td>0</td>\n",
              "      <td>0</td>\n",
              "      <td>0</td>\n",
              "      <td>0</td>\n",
              "      <td>0</td>\n",
              "      <td>0</td>\n",
              "      <td>1</td>\n",
              "      <td>0</td>\n",
              "      <td>0</td>\n",
              "      <td>0</td>\n",
              "      <td>1</td>\n",
              "      <td>0</td>\n",
              "      <td>49</td>\n",
              "      <td>279</td>\n",
              "      <td>8</td>\n",
              "      <td>1</td>\n",
              "      <td>3</td>\n",
              "      <td>61</td>\n",
              "      <td>2</td>\n",
              "      <td>2</td>\n",
              "      <td>2</td>\n",
              "      <td>5130</td>\n",
              "      <td>24907</td>\n",
              "      <td>1</td>\n",
              "      <td>0</td>\n",
              "      <td>23</td>\n",
              "      <td>4</td>\n",
              "      <td>4</td>\n",
              "      <td>1</td>\n",
              "      <td>10</td>\n",
              "      <td>3</td>\n",
              "      <td>3</td>\n",
              "      <td>10</td>\n",
              "      <td>7</td>\n",
              "      <td>1</td>\n",
              "      <td>7</td>\n",
              "    </tr>\n",
              "    <tr>\n",
              "      <th>2</th>\n",
              "      <td>0</td>\n",
              "      <td>0</td>\n",
              "      <td>1</td>\n",
              "      <td>0</td>\n",
              "      <td>1</td>\n",
              "      <td>0</td>\n",
              "      <td>0</td>\n",
              "      <td>0</td>\n",
              "      <td>0</td>\n",
              "      <td>0</td>\n",
              "      <td>1</td>\n",
              "      <td>0</td>\n",
              "      <td>0</td>\n",
              "      <td>1</td>\n",
              "      <td>0</td>\n",
              "      <td>0</td>\n",
              "      <td>1</td>\n",
              "      <td>0</td>\n",
              "      <td>0</td>\n",
              "      <td>0</td>\n",
              "      <td>0</td>\n",
              "      <td>0</td>\n",
              "      <td>0</td>\n",
              "      <td>0</td>\n",
              "      <td>0</td>\n",
              "      <td>1</td>\n",
              "      <td>37</td>\n",
              "      <td>1373</td>\n",
              "      <td>2</td>\n",
              "      <td>2</td>\n",
              "      <td>4</td>\n",
              "      <td>92</td>\n",
              "      <td>2</td>\n",
              "      <td>1</td>\n",
              "      <td>3</td>\n",
              "      <td>2090</td>\n",
              "      <td>2396</td>\n",
              "      <td>6</td>\n",
              "      <td>1</td>\n",
              "      <td>15</td>\n",
              "      <td>3</td>\n",
              "      <td>2</td>\n",
              "      <td>0</td>\n",
              "      <td>7</td>\n",
              "      <td>3</td>\n",
              "      <td>3</td>\n",
              "      <td>0</td>\n",
              "      <td>0</td>\n",
              "      <td>0</td>\n",
              "      <td>0</td>\n",
              "    </tr>\n",
              "    <tr>\n",
              "      <th>3</th>\n",
              "      <td>0</td>\n",
              "      <td>1</td>\n",
              "      <td>0</td>\n",
              "      <td>0</td>\n",
              "      <td>1</td>\n",
              "      <td>0</td>\n",
              "      <td>0</td>\n",
              "      <td>1</td>\n",
              "      <td>0</td>\n",
              "      <td>0</td>\n",
              "      <td>0</td>\n",
              "      <td>0</td>\n",
              "      <td>1</td>\n",
              "      <td>0</td>\n",
              "      <td>0</td>\n",
              "      <td>0</td>\n",
              "      <td>0</td>\n",
              "      <td>0</td>\n",
              "      <td>0</td>\n",
              "      <td>0</td>\n",
              "      <td>1</td>\n",
              "      <td>0</td>\n",
              "      <td>0</td>\n",
              "      <td>0</td>\n",
              "      <td>1</td>\n",
              "      <td>0</td>\n",
              "      <td>33</td>\n",
              "      <td>1392</td>\n",
              "      <td>3</td>\n",
              "      <td>4</td>\n",
              "      <td>4</td>\n",
              "      <td>56</td>\n",
              "      <td>3</td>\n",
              "      <td>1</td>\n",
              "      <td>3</td>\n",
              "      <td>2909</td>\n",
              "      <td>23159</td>\n",
              "      <td>1</td>\n",
              "      <td>1</td>\n",
              "      <td>11</td>\n",
              "      <td>3</td>\n",
              "      <td>3</td>\n",
              "      <td>0</td>\n",
              "      <td>8</td>\n",
              "      <td>3</td>\n",
              "      <td>3</td>\n",
              "      <td>8</td>\n",
              "      <td>7</td>\n",
              "      <td>3</td>\n",
              "      <td>0</td>\n",
              "    </tr>\n",
              "    <tr>\n",
              "      <th>4</th>\n",
              "      <td>0</td>\n",
              "      <td>0</td>\n",
              "      <td>1</td>\n",
              "      <td>0</td>\n",
              "      <td>1</td>\n",
              "      <td>0</td>\n",
              "      <td>0</td>\n",
              "      <td>0</td>\n",
              "      <td>0</td>\n",
              "      <td>1</td>\n",
              "      <td>0</td>\n",
              "      <td>0</td>\n",
              "      <td>0</td>\n",
              "      <td>1</td>\n",
              "      <td>0</td>\n",
              "      <td>0</td>\n",
              "      <td>1</td>\n",
              "      <td>0</td>\n",
              "      <td>0</td>\n",
              "      <td>0</td>\n",
              "      <td>0</td>\n",
              "      <td>0</td>\n",
              "      <td>0</td>\n",
              "      <td>0</td>\n",
              "      <td>1</td>\n",
              "      <td>0</td>\n",
              "      <td>27</td>\n",
              "      <td>591</td>\n",
              "      <td>2</td>\n",
              "      <td>1</td>\n",
              "      <td>1</td>\n",
              "      <td>40</td>\n",
              "      <td>3</td>\n",
              "      <td>1</td>\n",
              "      <td>2</td>\n",
              "      <td>3468</td>\n",
              "      <td>16632</td>\n",
              "      <td>9</td>\n",
              "      <td>0</td>\n",
              "      <td>12</td>\n",
              "      <td>3</td>\n",
              "      <td>4</td>\n",
              "      <td>1</td>\n",
              "      <td>6</td>\n",
              "      <td>3</td>\n",
              "      <td>3</td>\n",
              "      <td>2</td>\n",
              "      <td>2</td>\n",
              "      <td>2</td>\n",
              "      <td>2</td>\n",
              "    </tr>\n",
              "    <tr>\n",
              "      <th>...</th>\n",
              "      <td>...</td>\n",
              "      <td>...</td>\n",
              "      <td>...</td>\n",
              "      <td>...</td>\n",
              "      <td>...</td>\n",
              "      <td>...</td>\n",
              "      <td>...</td>\n",
              "      <td>...</td>\n",
              "      <td>...</td>\n",
              "      <td>...</td>\n",
              "      <td>...</td>\n",
              "      <td>...</td>\n",
              "      <td>...</td>\n",
              "      <td>...</td>\n",
              "      <td>...</td>\n",
              "      <td>...</td>\n",
              "      <td>...</td>\n",
              "      <td>...</td>\n",
              "      <td>...</td>\n",
              "      <td>...</td>\n",
              "      <td>...</td>\n",
              "      <td>...</td>\n",
              "      <td>...</td>\n",
              "      <td>...</td>\n",
              "      <td>...</td>\n",
              "      <td>...</td>\n",
              "      <td>...</td>\n",
              "      <td>...</td>\n",
              "      <td>...</td>\n",
              "      <td>...</td>\n",
              "      <td>...</td>\n",
              "      <td>...</td>\n",
              "      <td>...</td>\n",
              "      <td>...</td>\n",
              "      <td>...</td>\n",
              "      <td>...</td>\n",
              "      <td>...</td>\n",
              "      <td>...</td>\n",
              "      <td>...</td>\n",
              "      <td>...</td>\n",
              "      <td>...</td>\n",
              "      <td>...</td>\n",
              "      <td>...</td>\n",
              "      <td>...</td>\n",
              "      <td>...</td>\n",
              "      <td>...</td>\n",
              "      <td>...</td>\n",
              "      <td>...</td>\n",
              "      <td>...</td>\n",
              "      <td>...</td>\n",
              "    </tr>\n",
              "    <tr>\n",
              "      <th>1465</th>\n",
              "      <td>0</td>\n",
              "      <td>1</td>\n",
              "      <td>0</td>\n",
              "      <td>0</td>\n",
              "      <td>1</td>\n",
              "      <td>0</td>\n",
              "      <td>0</td>\n",
              "      <td>0</td>\n",
              "      <td>0</td>\n",
              "      <td>1</td>\n",
              "      <td>0</td>\n",
              "      <td>0</td>\n",
              "      <td>0</td>\n",
              "      <td>1</td>\n",
              "      <td>0</td>\n",
              "      <td>0</td>\n",
              "      <td>1</td>\n",
              "      <td>0</td>\n",
              "      <td>0</td>\n",
              "      <td>0</td>\n",
              "      <td>0</td>\n",
              "      <td>0</td>\n",
              "      <td>0</td>\n",
              "      <td>0</td>\n",
              "      <td>1</td>\n",
              "      <td>0</td>\n",
              "      <td>36</td>\n",
              "      <td>884</td>\n",
              "      <td>23</td>\n",
              "      <td>2</td>\n",
              "      <td>3</td>\n",
              "      <td>41</td>\n",
              "      <td>4</td>\n",
              "      <td>2</td>\n",
              "      <td>4</td>\n",
              "      <td>2571</td>\n",
              "      <td>12290</td>\n",
              "      <td>4</td>\n",
              "      <td>0</td>\n",
              "      <td>17</td>\n",
              "      <td>3</td>\n",
              "      <td>3</td>\n",
              "      <td>1</td>\n",
              "      <td>17</td>\n",
              "      <td>3</td>\n",
              "      <td>3</td>\n",
              "      <td>5</td>\n",
              "      <td>2</td>\n",
              "      <td>0</td>\n",
              "      <td>3</td>\n",
              "    </tr>\n",
              "    <tr>\n",
              "      <th>1466</th>\n",
              "      <td>0</td>\n",
              "      <td>0</td>\n",
              "      <td>1</td>\n",
              "      <td>0</td>\n",
              "      <td>1</td>\n",
              "      <td>0</td>\n",
              "      <td>0</td>\n",
              "      <td>0</td>\n",
              "      <td>0</td>\n",
              "      <td>1</td>\n",
              "      <td>0</td>\n",
              "      <td>0</td>\n",
              "      <td>0</td>\n",
              "      <td>1</td>\n",
              "      <td>1</td>\n",
              "      <td>0</td>\n",
              "      <td>0</td>\n",
              "      <td>0</td>\n",
              "      <td>0</td>\n",
              "      <td>0</td>\n",
              "      <td>0</td>\n",
              "      <td>0</td>\n",
              "      <td>0</td>\n",
              "      <td>0</td>\n",
              "      <td>1</td>\n",
              "      <td>0</td>\n",
              "      <td>39</td>\n",
              "      <td>613</td>\n",
              "      <td>6</td>\n",
              "      <td>1</td>\n",
              "      <td>4</td>\n",
              "      <td>42</td>\n",
              "      <td>2</td>\n",
              "      <td>3</td>\n",
              "      <td>1</td>\n",
              "      <td>9991</td>\n",
              "      <td>21457</td>\n",
              "      <td>4</td>\n",
              "      <td>0</td>\n",
              "      <td>15</td>\n",
              "      <td>3</td>\n",
              "      <td>1</td>\n",
              "      <td>1</td>\n",
              "      <td>9</td>\n",
              "      <td>5</td>\n",
              "      <td>3</td>\n",
              "      <td>7</td>\n",
              "      <td>7</td>\n",
              "      <td>1</td>\n",
              "      <td>7</td>\n",
              "    </tr>\n",
              "    <tr>\n",
              "      <th>1467</th>\n",
              "      <td>0</td>\n",
              "      <td>0</td>\n",
              "      <td>1</td>\n",
              "      <td>0</td>\n",
              "      <td>1</td>\n",
              "      <td>0</td>\n",
              "      <td>0</td>\n",
              "      <td>1</td>\n",
              "      <td>0</td>\n",
              "      <td>0</td>\n",
              "      <td>0</td>\n",
              "      <td>0</td>\n",
              "      <td>0</td>\n",
              "      <td>1</td>\n",
              "      <td>0</td>\n",
              "      <td>0</td>\n",
              "      <td>0</td>\n",
              "      <td>0</td>\n",
              "      <td>1</td>\n",
              "      <td>0</td>\n",
              "      <td>0</td>\n",
              "      <td>0</td>\n",
              "      <td>0</td>\n",
              "      <td>0</td>\n",
              "      <td>1</td>\n",
              "      <td>0</td>\n",
              "      <td>27</td>\n",
              "      <td>155</td>\n",
              "      <td>4</td>\n",
              "      <td>3</td>\n",
              "      <td>2</td>\n",
              "      <td>87</td>\n",
              "      <td>4</td>\n",
              "      <td>2</td>\n",
              "      <td>2</td>\n",
              "      <td>6142</td>\n",
              "      <td>5174</td>\n",
              "      <td>1</td>\n",
              "      <td>1</td>\n",
              "      <td>20</td>\n",
              "      <td>4</td>\n",
              "      <td>2</td>\n",
              "      <td>1</td>\n",
              "      <td>6</td>\n",
              "      <td>0</td>\n",
              "      <td>3</td>\n",
              "      <td>6</td>\n",
              "      <td>2</td>\n",
              "      <td>0</td>\n",
              "      <td>3</td>\n",
              "    </tr>\n",
              "    <tr>\n",
              "      <th>1468</th>\n",
              "      <td>0</td>\n",
              "      <td>1</td>\n",
              "      <td>0</td>\n",
              "      <td>0</td>\n",
              "      <td>0</td>\n",
              "      <td>1</td>\n",
              "      <td>0</td>\n",
              "      <td>0</td>\n",
              "      <td>0</td>\n",
              "      <td>1</td>\n",
              "      <td>0</td>\n",
              "      <td>0</td>\n",
              "      <td>0</td>\n",
              "      <td>1</td>\n",
              "      <td>0</td>\n",
              "      <td>0</td>\n",
              "      <td>0</td>\n",
              "      <td>0</td>\n",
              "      <td>0</td>\n",
              "      <td>0</td>\n",
              "      <td>0</td>\n",
              "      <td>1</td>\n",
              "      <td>0</td>\n",
              "      <td>0</td>\n",
              "      <td>1</td>\n",
              "      <td>0</td>\n",
              "      <td>49</td>\n",
              "      <td>1023</td>\n",
              "      <td>2</td>\n",
              "      <td>3</td>\n",
              "      <td>4</td>\n",
              "      <td>63</td>\n",
              "      <td>2</td>\n",
              "      <td>2</td>\n",
              "      <td>2</td>\n",
              "      <td>5390</td>\n",
              "      <td>13243</td>\n",
              "      <td>2</td>\n",
              "      <td>0</td>\n",
              "      <td>14</td>\n",
              "      <td>3</td>\n",
              "      <td>4</td>\n",
              "      <td>0</td>\n",
              "      <td>17</td>\n",
              "      <td>3</td>\n",
              "      <td>2</td>\n",
              "      <td>9</td>\n",
              "      <td>6</td>\n",
              "      <td>0</td>\n",
              "      <td>8</td>\n",
              "    </tr>\n",
              "    <tr>\n",
              "      <th>1469</th>\n",
              "      <td>0</td>\n",
              "      <td>0</td>\n",
              "      <td>1</td>\n",
              "      <td>0</td>\n",
              "      <td>1</td>\n",
              "      <td>0</td>\n",
              "      <td>0</td>\n",
              "      <td>0</td>\n",
              "      <td>0</td>\n",
              "      <td>1</td>\n",
              "      <td>0</td>\n",
              "      <td>0</td>\n",
              "      <td>0</td>\n",
              "      <td>1</td>\n",
              "      <td>0</td>\n",
              "      <td>0</td>\n",
              "      <td>1</td>\n",
              "      <td>0</td>\n",
              "      <td>0</td>\n",
              "      <td>0</td>\n",
              "      <td>0</td>\n",
              "      <td>0</td>\n",
              "      <td>0</td>\n",
              "      <td>0</td>\n",
              "      <td>1</td>\n",
              "      <td>0</td>\n",
              "      <td>34</td>\n",
              "      <td>628</td>\n",
              "      <td>8</td>\n",
              "      <td>3</td>\n",
              "      <td>2</td>\n",
              "      <td>82</td>\n",
              "      <td>4</td>\n",
              "      <td>2</td>\n",
              "      <td>3</td>\n",
              "      <td>4404</td>\n",
              "      <td>10228</td>\n",
              "      <td>2</td>\n",
              "      <td>0</td>\n",
              "      <td>12</td>\n",
              "      <td>3</td>\n",
              "      <td>1</td>\n",
              "      <td>0</td>\n",
              "      <td>6</td>\n",
              "      <td>3</td>\n",
              "      <td>4</td>\n",
              "      <td>4</td>\n",
              "      <td>3</td>\n",
              "      <td>1</td>\n",
              "      <td>2</td>\n",
              "    </tr>\n",
              "  </tbody>\n",
              "</table>\n",
              "<p>1470 rows × 50 columns</p>\n",
              "</div>"
            ],
            "text/plain": [
              "     0  1  2  3  4  5  6  7  8  9  10 11  ... 38  39 40 41 42  43 44 45  46 47 48 49\n",
              "0     0  0  1  0  0  1  0  1  0  0  0  0  ...  1  11  3  1  0   8  0  1   6  4  0  5\n",
              "1     0  1  0  0  1  0  0  1  0  0  0  0  ...  0  23  4  4  1  10  3  3  10  7  1  7\n",
              "2     0  0  1  0  1  0  0  0  0  0  1  0  ...  1  15  3  2  0   7  3  3   0  0  0  0\n",
              "3     0  1  0  0  1  0  0  1  0  0  0  0  ...  1  11  3  3  0   8  3  3   8  7  3  0\n",
              "4     0  0  1  0  1  0  0  0  0  1  0  0  ...  0  12  3  4  1   6  3  3   2  2  2  2\n",
              "...  .. .. .. .. .. .. .. .. .. .. .. ..  ... ..  .. .. .. ..  .. .. ..  .. .. .. ..\n",
              "1465  0  1  0  0  1  0  0  0  0  1  0  0  ...  0  17  3  3  1  17  3  3   5  2  0  3\n",
              "1466  0  0  1  0  1  0  0  0  0  1  0  0  ...  0  15  3  1  1   9  5  3   7  7  1  7\n",
              "1467  0  0  1  0  1  0  0  1  0  0  0  0  ...  1  20  4  2  1   6  0  3   6  2  0  3\n",
              "1468  0  1  0  0  0  1  0  0  0  1  0  0  ...  0  14  3  4  0  17  3  2   9  6  0  8\n",
              "1469  0  0  1  0  1  0  0  0  0  1  0  0  ...  0  12  3  1  0   6  3  4   4  3  1  2\n",
              "\n",
              "[1470 rows x 50 columns]"
            ]
          },
          "metadata": {
            "tags": []
          },
          "execution_count": 39
        }
      ]
    },
    {
      "cell_type": "markdown",
      "metadata": {
        "id": "H9nR88P-wHGm",
        "colab_type": "text"
      },
      "source": [
        "### Normalization"
      ]
    },
    {
      "cell_type": "code",
      "metadata": {
        "id": "mh43_hGWvcjv",
        "colab_type": "code",
        "colab": {}
      },
      "source": [
        "from sklearn.preprocessing import MinMaxScaler\n",
        "scaler_X = MinMaxScaler()\n",
        "X = scaler_X.fit_transform(X)"
      ],
      "execution_count": 40,
      "outputs": []
    },
    {
      "cell_type": "markdown",
      "metadata": {
        "id": "Id2e66-VxFI2",
        "colab_type": "text"
      },
      "source": [
        "### Splitting Dataset"
      ]
    },
    {
      "cell_type": "code",
      "metadata": {
        "id": "26Hoi8zuxDjD",
        "colab_type": "code",
        "colab": {}
      },
      "source": [
        "from sklearn.model_selection import train_test_split\n",
        "X_train, X_test, y_train, y_test = train_test_split( X, y , test_size = 0.2, random_state = 42)"
      ],
      "execution_count": 41,
      "outputs": []
    },
    {
      "cell_type": "code",
      "metadata": {
        "id": "ZZ-n6fpQxZAf",
        "colab_type": "code",
        "colab": {
          "base_uri": "https://localhost:8080/",
          "height": 91
        },
        "outputId": "c0512329-a7bc-4fba-d65f-b8931f7823d4"
      },
      "source": [
        "print(X_train.shape)\n",
        "print(y_train.shape)\n",
        "print(X_test.shape)\n",
        "print(y_test.shape)"
      ],
      "execution_count": 42,
      "outputs": [
        {
          "output_type": "stream",
          "text": [
            "(1176, 50)\n",
            "(1176,)\n",
            "(294, 50)\n",
            "(294,)\n"
          ],
          "name": "stdout"
        }
      ]
    },
    {
      "cell_type": "markdown",
      "metadata": {
        "id": "nV9haTLDwyjL",
        "colab_type": "text"
      },
      "source": [
        "# Model Training"
      ]
    },
    {
      "cell_type": "markdown",
      "metadata": {
        "id": "-qTwlkwnxO45",
        "colab_type": "text"
      },
      "source": [
        "### Logistic Regression"
      ]
    },
    {
      "cell_type": "markdown",
      "metadata": {
        "id": "DkX7_lJpUQBe",
        "colab_type": "text"
      },
      "source": [
        "Model Training"
      ]
    },
    {
      "cell_type": "code",
      "metadata": {
        "id": "h4zbwwOPwRAP",
        "colab_type": "code",
        "colab": {
          "base_uri": "https://localhost:8080/",
          "height": 109
        },
        "outputId": "83af9093-0b92-495b-d7a1-5d8ea26de492"
      },
      "source": [
        "from sklearn.linear_model import LogisticRegression\n",
        "classifier = LogisticRegression(random_state = 0)\n",
        "\n",
        "classifier.fit(X_train, y_train)"
      ],
      "execution_count": 43,
      "outputs": [
        {
          "output_type": "execute_result",
          "data": {
            "text/plain": [
              "LogisticRegression(C=1.0, class_weight=None, dual=False, fit_intercept=True,\n",
              "                   intercept_scaling=1, l1_ratio=None, max_iter=100,\n",
              "                   multi_class='auto', n_jobs=None, penalty='l2',\n",
              "                   random_state=0, solver='lbfgs', tol=0.0001, verbose=0,\n",
              "                   warm_start=False)"
            ]
          },
          "metadata": {
            "tags": []
          },
          "execution_count": 43
        }
      ]
    },
    {
      "cell_type": "markdown",
      "metadata": {
        "id": "EWfVLADcUUlt",
        "colab_type": "text"
      },
      "source": [
        "Model Prediction"
      ]
    },
    {
      "cell_type": "code",
      "metadata": {
        "id": "7YDGIYB7xUIo",
        "colab_type": "code",
        "colab": {}
      },
      "source": [
        "y_pred = classifier.predict(X_test)"
      ],
      "execution_count": 44,
      "outputs": []
    },
    {
      "cell_type": "markdown",
      "metadata": {
        "id": "R05c6yqOUXFk",
        "colab_type": "text"
      },
      "source": [
        "Accuracy"
      ]
    },
    {
      "cell_type": "code",
      "metadata": {
        "id": "vEaUc9_ixcR4",
        "colab_type": "code",
        "colab": {
          "base_uri": "https://localhost:8080/",
          "height": 35
        },
        "outputId": "65d41744-be75-4904-fefd-effa81b1cd67"
      },
      "source": [
        "from sklearn.metrics import confusion_matrix, classification_report, accuracy_score\n",
        "acc = accuracy_score(y_test, y_pred)\n",
        "\n",
        "print(f'accuracy : {acc*100:.2f}%')"
      ],
      "execution_count": 45,
      "outputs": [
        {
          "output_type": "stream",
          "text": [
            "accuracy : 89.12%\n"
          ],
          "name": "stdout"
        }
      ]
    },
    {
      "cell_type": "markdown",
      "metadata": {
        "id": "vJImNxaQUYa9",
        "colab_type": "text"
      },
      "source": [
        "Confusion Matrix"
      ]
    },
    {
      "cell_type": "code",
      "metadata": {
        "id": "_VdF9EhoUqEF",
        "colab_type": "code",
        "colab": {}
      },
      "source": [
        "from sklearn.metrics import confusion_matrix, accuracy_score\n",
        "cm = confusion_matrix(y_test, y_pred)\n",
        "print(cm)"
      ],
      "execution_count": null,
      "outputs": []
    },
    {
      "cell_type": "code",
      "metadata": {
        "id": "hU-R4HpQxeif",
        "colab_type": "code",
        "colab": {
          "base_uri": "https://localhost:8080/",
          "height": 265
        },
        "outputId": "f21a3bd5-0c21-45bb-c5c4-48057c7d61a0"
      },
      "source": [
        "sns.heatmap(cm, annot=True)\n",
        "plt.show()"
      ],
      "execution_count": 46,
      "outputs": [
        {
          "output_type": "display_data",
          "data": {
            "image/png": "[encoded data removed]",
            "text/plain": [
              "<Figure size 432x288 with 2 Axes>"
            ]
          },
          "metadata": {
            "tags": [],
            "needs_background": "light"
          }
        }
      ]
    },
    {
      "cell_type": "markdown",
      "metadata": {
        "id": "l5Pel9mLUajt",
        "colab_type": "text"
      },
      "source": [
        "Classification Report"
      ]
    },
    {
      "cell_type": "code",
      "metadata": {
        "id": "7WtO0sKPxlnX",
        "colab_type": "code",
        "colab": {
          "base_uri": "https://localhost:8080/",
          "height": 183
        },
        "outputId": "dcdf3309-724c-4d1e-badc-31f23a8726ed"
      },
      "source": [
        "print(classification_report(y_test, y_pred))"
      ],
      "execution_count": 47,
      "outputs": [
        {
          "output_type": "stream",
          "text": [
            "              precision    recall  f1-score   support\n",
            "\n",
            "           0       0.91      0.97      0.94       255\n",
            "           1       0.67      0.36      0.47        39\n",
            "\n",
            "    accuracy                           0.89       294\n",
            "   macro avg       0.79      0.67      0.70       294\n",
            "weighted avg       0.88      0.89      0.88       294\n",
            "\n"
          ],
          "name": "stdout"
        }
      ]
    },
    {
      "cell_type": "markdown",
      "metadata": {
        "id": "UFB--pYTyWV_",
        "colab_type": "text"
      },
      "source": [
        "### KNN"
      ]
    },
    {
      "cell_type": "markdown",
      "metadata": {
        "id": "NdEXs1YyUdv5",
        "colab_type": "text"
      },
      "source": [
        "Find best k value"
      ]
    },
    {
      "cell_type": "code",
      "metadata": {
        "id": "nvcpG5Z2I4jR",
        "colab_type": "code",
        "colab": {
          "base_uri": "https://localhost:8080/",
          "height": 592
        },
        "outputId": "2bbda435-fd29-41a3-aec2-257871e4b982"
      },
      "source": [
        "error_rate = []\n",
        "\n",
        "for i in range(1,50):\n",
        "    knn = KNeighborsClassifier(n_neighbors=i)\n",
        "    knn.fit(X_train, y_train)\n",
        "    pred = knn.predict(X_test)\n",
        "    error_rate.append(np.mean(pred != y_test))\n",
        "\n",
        "plt.figure(figsize=(10,10))\n",
        "plt.plot(range(1,50),error_rate, marker='o', markersize=9)\n",
        "plt.show()"
      ],
      "execution_count": 56,
      "outputs": [
        {
          "output_type": "display_data",
          "data": {
            "image/png": "[encoded data removed]",
            "text/plain": [
              "<Figure size 720x720 with 1 Axes>"
            ]
          },
          "metadata": {
            "tags": [],
            "needs_background": "light"
          }
        }
      ]
    },
    {
      "cell_type": "markdown",
      "metadata": {
        "id": "EVYwnHFEUi2b",
        "colab_type": "text"
      },
      "source": [
        "Model Training"
      ]
    },
    {
      "cell_type": "code",
      "metadata": {
        "id": "cuXcgffjxrzi",
        "colab_type": "code",
        "colab": {
          "base_uri": "https://localhost:8080/",
          "height": 72
        },
        "outputId": "4118d82e-1ef4-4f4e-d13e-85bdc2a36e3d"
      },
      "source": [
        "from sklearn.neighbors import KNeighborsClassifier\n",
        "classifier = KNeighborsClassifier(n_neighbors = 4, metric = 'minkowski', p = 2)\n",
        "\n",
        "classifier.fit(X_train, y_train)"
      ],
      "execution_count": 57,
      "outputs": [
        {
          "output_type": "execute_result",
          "data": {
            "text/plain": [
              "KNeighborsClassifier(algorithm='auto', leaf_size=30, metric='minkowski',\n",
              "                     metric_params=None, n_jobs=None, n_neighbors=4, p=2,\n",
              "                     weights='uniform')"
            ]
          },
          "metadata": {
            "tags": []
          },
          "execution_count": 57
        }
      ]
    },
    {
      "cell_type": "markdown",
      "metadata": {
        "id": "EcmD0E7sUk7e",
        "colab_type": "text"
      },
      "source": [
        "Model Prediction"
      ]
    },
    {
      "cell_type": "code",
      "metadata": {
        "id": "tedDropByZCh",
        "colab_type": "code",
        "colab": {}
      },
      "source": [
        "y_pred = classifier.predict(X_test)"
      ],
      "execution_count": 58,
      "outputs": []
    },
    {
      "cell_type": "markdown",
      "metadata": {
        "id": "YWvQ3U2QUmcz",
        "colab_type": "text"
      },
      "source": [
        "Accuracy"
      ]
    },
    {
      "cell_type": "code",
      "metadata": {
        "id": "Joh8aXzSyauA",
        "colab_type": "code",
        "colab": {
          "base_uri": "https://localhost:8080/",
          "height": 35
        },
        "outputId": "88c989e5-059d-4d22-fa4b-97e453619ced"
      },
      "source": [
        "from sklearn.metrics import confusion_matrix, classification_report, accuracy_score\n",
        "acc = accuracy_score(y_test, y_pred)\n",
        "\n",
        "print(f'accuracy : {acc:.2f}%')"
      ],
      "execution_count": 60,
      "outputs": [
        {
          "output_type": "stream",
          "text": [
            "accuracy : 0.88%\n"
          ],
          "name": "stdout"
        }
      ]
    },
    {
      "cell_type": "markdown",
      "metadata": {
        "id": "wyCXmR_UU0xL",
        "colab_type": "text"
      },
      "source": [
        "Confusion Matrix"
      ]
    },
    {
      "cell_type": "code",
      "metadata": {
        "id": "mBCb8CO4U3JV",
        "colab_type": "code",
        "colab": {}
      },
      "source": [
        "from sklearn.metrics import confusion_matrix, accuracy_score\n",
        "cm = confusion_matrix(y_test, y_pred)\n",
        "print(cm)"
      ],
      "execution_count": null,
      "outputs": []
    },
    {
      "cell_type": "code",
      "metadata": {
        "id": "47SIItgNyn5j",
        "colab_type": "code",
        "colab": {
          "base_uri": "https://localhost:8080/",
          "height": 284
        },
        "outputId": "43bae9a6-039a-400c-a007-90351f30d135"
      },
      "source": [
        "sns.heatmap(cm, annot=True)\n",
        "plt.show()"
      ],
      "execution_count": 61,
      "outputs": [
        {
          "output_type": "execute_result",
          "data": {
            "text/plain": [
              "<matplotlib.axes._subplots.AxesSubplot at 0x7ffa6f6a7e10>"
            ]
          },
          "metadata": {
            "tags": []
          },
          "execution_count": 61
        },
        {
          "output_type": "display_data",
          "data": {
            "image/png": "[encoded data removed]",
            "text/plain": [
              "<Figure size 432x288 with 2 Axes>"
            ]
          },
          "metadata": {
            "tags": [],
            "needs_background": "light"
          }
        }
      ]
    },
    {
      "cell_type": "markdown",
      "metadata": {
        "id": "z5Kbgy91U7EX",
        "colab_type": "text"
      },
      "source": [
        "Classification Report"
      ]
    },
    {
      "cell_type": "code",
      "metadata": {
        "id": "wISe_KUqyrih",
        "colab_type": "code",
        "colab": {
          "base_uri": "https://localhost:8080/",
          "height": 183
        },
        "outputId": "e1277c61-cbb1-4d2a-b332-b2e280fe29a3"
      },
      "source": [
        "print(classification_report(y_test, y_pred))"
      ],
      "execution_count": 62,
      "outputs": [
        {
          "output_type": "stream",
          "text": [
            "              precision    recall  f1-score   support\n",
            "\n",
            "           0       0.88      1.00      0.93       255\n",
            "           1       0.80      0.10      0.18        39\n",
            "\n",
            "    accuracy                           0.88       294\n",
            "   macro avg       0.84      0.55      0.56       294\n",
            "weighted avg       0.87      0.88      0.83       294\n",
            "\n"
          ],
          "name": "stdout"
        }
      ]
    },
    {
      "cell_type": "markdown",
      "metadata": {
        "id": "5hHoSD0NRGMc",
        "colab_type": "text"
      },
      "source": [
        "### SVM"
      ]
    },
    {
      "cell_type": "markdown",
      "metadata": {
        "id": "wqeOMuT3U-N7",
        "colab_type": "text"
      },
      "source": [
        "Model Traning"
      ]
    },
    {
      "cell_type": "code",
      "metadata": {
        "id": "_NdDTdzkRE8P",
        "colab_type": "code",
        "colab": {
          "base_uri": "https://localhost:8080/",
          "height": 91
        },
        "outputId": "243684f3-ee7d-426d-b09a-94a416170689"
      },
      "source": [
        "from sklearn.svm import SVC\n",
        "classifier = SVC(kernel = 'linear', random_state = 0)\n",
        "\n",
        "classifier.fit(X_train, y_train)"
      ],
      "execution_count": 63,
      "outputs": [
        {
          "output_type": "execute_result",
          "data": {
            "text/plain": [
              "SVC(C=1.0, break_ties=False, cache_size=200, class_weight=None, coef0=0.0,\n",
              "    decision_function_shape='ovr', degree=3, gamma='scale', kernel='linear',\n",
              "    max_iter=-1, probability=False, random_state=0, shrinking=True, tol=0.001,\n",
              "    verbose=False)"
            ]
          },
          "metadata": {
            "tags": []
          },
          "execution_count": 63
        }
      ]
    },
    {
      "cell_type": "markdown",
      "metadata": {
        "id": "J9wS7T17VBED",
        "colab_type": "text"
      },
      "source": [
        "Model Prediction"
      ]
    },
    {
      "cell_type": "code",
      "metadata": {
        "id": "f2bGQp1w_cv2",
        "colab_type": "code",
        "colab": {}
      },
      "source": [
        "y_pred = classifier.predict(X_test)"
      ],
      "execution_count": 64,
      "outputs": []
    },
    {
      "cell_type": "markdown",
      "metadata": {
        "id": "4Itp6ts0VDGl",
        "colab_type": "text"
      },
      "source": [
        "Accuracy"
      ]
    },
    {
      "cell_type": "code",
      "metadata": {
        "id": "X-mKYejjRNof",
        "colab_type": "code",
        "colab": {
          "base_uri": "https://localhost:8080/",
          "height": 35
        },
        "outputId": "b2d09877-22e2-4dc6-f7d5-2db632c2094a"
      },
      "source": [
        "from sklearn.metrics import accuracy_score\n",
        "acc = accuracy_score(y_test, y_pred)\n",
        "\n",
        "print(f'accuracy : {acc:.2f}%')"
      ],
      "execution_count": 65,
      "outputs": [
        {
          "output_type": "stream",
          "text": [
            "accuracy : 0.90%\n"
          ],
          "name": "stdout"
        }
      ]
    },
    {
      "cell_type": "markdown",
      "metadata": {
        "id": "RuCHjZlMVF14",
        "colab_type": "text"
      },
      "source": [
        "Confusion Matrix"
      ]
    },
    {
      "cell_type": "code",
      "metadata": {
        "id": "rqEQgj9PRV_2",
        "colab_type": "code",
        "colab": {
          "base_uri": "https://localhost:8080/",
          "height": 302
        },
        "outputId": "0b730350-e214-4fd2-c205-3d434cb8e4a3"
      },
      "source": [
        "from sklearn.metrics import confusion_matrix, accuracy_score\n",
        "cm = confusion_matrix(y_test, y_pred)\n",
        "print(cm)"
      ],
      "execution_count": 66,
      "outputs": [
        {
          "output_type": "stream",
          "text": [
            "[[247   8]\n",
            " [ 22  17]]\n"
          ],
          "name": "stdout"
        },
        {
          "output_type": "display_data",
          "data": {
            "image/png": "[encoded data removed]",
            "text/plain": [
              "<Figure size 432x288 with 2 Axes>"
            ]
          },
          "metadata": {
            "tags": [],
            "needs_background": "light"
          }
        }
      ]
    },
    {
      "cell_type": "code",
      "metadata": {
        "id": "NV4aGX3hVIwc",
        "colab_type": "code",
        "colab": {}
      },
      "source": [
        "sns.heatmap(cm, annot=True)\n",
        "plt.show()"
      ],
      "execution_count": null,
      "outputs": []
    },
    {
      "cell_type": "markdown",
      "metadata": {
        "id": "hwJIJvVzVLa1",
        "colab_type": "text"
      },
      "source": [
        "Classification report"
      ]
    },
    {
      "cell_type": "code",
      "metadata": {
        "id": "uEYNvIEWRYgR",
        "colab_type": "code",
        "colab": {
          "base_uri": "https://localhost:8080/",
          "height": 183
        },
        "outputId": "5b75048d-31e8-4d41-9e3b-ae2d5dca95e7"
      },
      "source": [
        "print(classification_report(y_test, y_pred))"
      ],
      "execution_count": 67,
      "outputs": [
        {
          "output_type": "stream",
          "text": [
            "              precision    recall  f1-score   support\n",
            "\n",
            "           0       0.92      0.97      0.94       255\n",
            "           1       0.68      0.44      0.53        39\n",
            "\n",
            "    accuracy                           0.90       294\n",
            "   macro avg       0.80      0.70      0.74       294\n",
            "weighted avg       0.89      0.90      0.89       294\n",
            "\n"
          ],
          "name": "stdout"
        }
      ]
    },
    {
      "cell_type": "markdown",
      "metadata": {
        "id": "NR9VOkn8Rla1",
        "colab_type": "text"
      },
      "source": [
        "### Kernel SVM"
      ]
    },
    {
      "cell_type": "markdown",
      "metadata": {
        "id": "dgo6YlqvVRIN",
        "colab_type": "text"
      },
      "source": [
        "Model Training"
      ]
    },
    {
      "cell_type": "code",
      "metadata": {
        "id": "ahRIFUxyRfE8",
        "colab_type": "code",
        "colab": {
          "base_uri": "https://localhost:8080/",
          "height": 91
        },
        "outputId": "b61a184a-8f2e-4be4-a27e-fb1f7d50cb55"
      },
      "source": [
        "from sklearn.svm import SVC\n",
        "classifier = SVC(kernel = 'rbf', random_state = 0)\n",
        "\n",
        "classifier.fit(X_train, y_train)"
      ],
      "execution_count": 68,
      "outputs": [
        {
          "output_type": "execute_result",
          "data": {
            "text/plain": [
              "SVC(C=1.0, break_ties=False, cache_size=200, class_weight=None, coef0=0.0,\n",
              "    decision_function_shape='ovr', degree=3, gamma='scale', kernel='rbf',\n",
              "    max_iter=-1, probability=False, random_state=0, shrinking=True, tol=0.001,\n",
              "    verbose=False)"
            ]
          },
          "metadata": {
            "tags": []
          },
          "execution_count": 68
        }
      ]
    },
    {
      "cell_type": "markdown",
      "metadata": {
        "id": "q31nBDa2VT5n",
        "colab_type": "text"
      },
      "source": [
        "Model Prediction"
      ]
    },
    {
      "cell_type": "code",
      "metadata": {
        "id": "AFEEzNTWR3DD",
        "colab_type": "code",
        "colab": {}
      },
      "source": [
        "y_pred = classifier.predict(X_test)"
      ],
      "execution_count": 69,
      "outputs": []
    },
    {
      "cell_type": "markdown",
      "metadata": {
        "id": "p-VThyw2VVwL",
        "colab_type": "text"
      },
      "source": [
        "Accuracy"
      ]
    },
    {
      "cell_type": "code",
      "metadata": {
        "id": "_9MraMxxRzSJ",
        "colab_type": "code",
        "colab": {
          "base_uri": "https://localhost:8080/",
          "height": 35
        },
        "outputId": "ad39ddbe-7806-41b6-ad0f-42a27bca7868"
      },
      "source": [
        "from sklearn.metrics import accuracy_score\n",
        "acc = accuracy_score(y_test, y_pred)\n",
        "\n",
        "print(f'accuracy : {acc:.2f}%')"
      ],
      "execution_count": 70,
      "outputs": [
        {
          "output_type": "stream",
          "text": [
            "accuracy : 0.90%\n"
          ],
          "name": "stdout"
        }
      ]
    },
    {
      "cell_type": "markdown",
      "metadata": {
        "id": "i6gFYTaNVYe8",
        "colab_type": "text"
      },
      "source": [
        "Confusion Matrix"
      ]
    },
    {
      "cell_type": "code",
      "metadata": {
        "id": "MfpFDv9-R6p1",
        "colab_type": "code",
        "colab": {
          "base_uri": "https://localhost:8080/",
          "height": 303
        },
        "outputId": "7b52e94d-741d-4626-ccc9-a8dfb669854a"
      },
      "source": [
        "from sklearn.metrics import confusion_matrix, accuracy_score\n",
        "cm = confusion_matrix(y_test, y_pred)\n",
        "print(cm)"
      ],
      "execution_count": 71,
      "outputs": [
        {
          "output_type": "stream",
          "text": [
            "[[254   1]\n",
            " [ 29  10]]\n"
          ],
          "name": "stdout"
        },
        {
          "output_type": "display_data",
          "data": {
            "image/png": "[encoded data removed]",
            "text/plain": [
              "<Figure size 432x288 with 2 Axes>"
            ]
          },
          "metadata": {
            "tags": [],
            "needs_background": "light"
          }
        }
      ]
    },
    {
      "cell_type": "code",
      "metadata": {
        "id": "oWtYsNvNVdSZ",
        "colab_type": "code",
        "colab": {}
      },
      "source": [
        "sns.heatmap(cm, annot=True)\n",
        "plt.show()"
      ],
      "execution_count": null,
      "outputs": []
    },
    {
      "cell_type": "markdown",
      "metadata": {
        "id": "AH9SQd8YVeeb",
        "colab_type": "text"
      },
      "source": [
        "Classification report"
      ]
    },
    {
      "cell_type": "code",
      "metadata": {
        "id": "eFrS2JLtR_Ly",
        "colab_type": "code",
        "colab": {
          "base_uri": "https://localhost:8080/",
          "height": 183
        },
        "outputId": "39e89733-21ff-4999-88a4-0567509cdc72"
      },
      "source": [
        "print(classification_report(y_test, y_pred))"
      ],
      "execution_count": 72,
      "outputs": [
        {
          "output_type": "stream",
          "text": [
            "              precision    recall  f1-score   support\n",
            "\n",
            "           0       0.90      1.00      0.94       255\n",
            "           1       0.91      0.26      0.40        39\n",
            "\n",
            "    accuracy                           0.90       294\n",
            "   macro avg       0.90      0.63      0.67       294\n",
            "weighted avg       0.90      0.90      0.87       294\n",
            "\n"
          ],
          "name": "stdout"
        }
      ]
    },
    {
      "cell_type": "markdown",
      "metadata": {
        "id": "IxLKOwjbSC4g",
        "colab_type": "text"
      },
      "source": [
        "### Naive Bayes"
      ]
    },
    {
      "cell_type": "markdown",
      "metadata": {
        "id": "9L5WbyrtVjBr",
        "colab_type": "text"
      },
      "source": [
        "Model Training"
      ]
    },
    {
      "cell_type": "code",
      "metadata": {
        "id": "uBU_ApdsSA7F",
        "colab_type": "code",
        "colab": {
          "base_uri": "https://localhost:8080/",
          "height": 35
        },
        "outputId": "f4c8c881-b1f5-4e4f-b3e9-c161ec20ec89"
      },
      "source": [
        "from sklearn.naive_bayes import GaussianNB\n",
        "classifier = GaussianNB()\n",
        "\n",
        "classifier.fit(X_train, y_train)"
      ],
      "execution_count": 73,
      "outputs": [
        {
          "output_type": "execute_result",
          "data": {
            "text/plain": [
              "GaussianNB(priors=None, var_smoothing=1e-09)"
            ]
          },
          "metadata": {
            "tags": []
          },
          "execution_count": 73
        }
      ]
    },
    {
      "cell_type": "markdown",
      "metadata": {
        "id": "y0VfpwpIVmDO",
        "colab_type": "text"
      },
      "source": [
        "Model Prediction"
      ]
    },
    {
      "cell_type": "code",
      "metadata": {
        "id": "GANrOkiFSKaz",
        "colab_type": "code",
        "colab": {}
      },
      "source": [
        "y_pred = classifier.predict(X_test)"
      ],
      "execution_count": 74,
      "outputs": []
    },
    {
      "cell_type": "markdown",
      "metadata": {
        "id": "Pqqsvfg3Vn3i",
        "colab_type": "text"
      },
      "source": [
        "Accuracy"
      ]
    },
    {
      "cell_type": "code",
      "metadata": {
        "id": "s9AYDMLGSMcx",
        "colab_type": "code",
        "colab": {
          "base_uri": "https://localhost:8080/",
          "height": 35
        },
        "outputId": "773e4c3a-1670-42a9-e26f-753148244314"
      },
      "source": [
        "from sklearn.metrics import accuracy_score\n",
        "acc = accuracy_score(y_test, y_pred)\n",
        "\n",
        "print(f'accuracy : {acc:.2f}%')"
      ],
      "execution_count": 75,
      "outputs": [
        {
          "output_type": "stream",
          "text": [
            "accuracy : 0.67%\n"
          ],
          "name": "stdout"
        }
      ]
    },
    {
      "cell_type": "markdown",
      "metadata": {
        "id": "UJ8baTSXVqYZ",
        "colab_type": "text"
      },
      "source": [
        "Confusion Matrix"
      ]
    },
    {
      "cell_type": "code",
      "metadata": {
        "id": "pmprFIexSRX3",
        "colab_type": "code",
        "colab": {
          "base_uri": "https://localhost:8080/",
          "height": 302
        },
        "outputId": "ef90ff94-2b83-41fb-8b9b-c582f5c91607"
      },
      "source": [
        "from sklearn.metrics import confusion_matrix, accuracy_score\n",
        "cm = confusion_matrix(y_test, y_pred)\n",
        "print(cm)"
      ],
      "execution_count": 76,
      "outputs": [
        {
          "output_type": "stream",
          "text": [
            "[[174  81]\n",
            " [ 15  24]]\n"
          ],
          "name": "stdout"
        },
        {
          "output_type": "display_data",
          "data": {
            "image/png": "[encoded data removed]",
            "text/plain": [
              "<Figure size 432x288 with 2 Axes>"
            ]
          },
          "metadata": {
            "tags": [],
            "needs_background": "light"
          }
        }
      ]
    },
    {
      "cell_type": "code",
      "metadata": {
        "id": "zqLUgPmcVvqq",
        "colab_type": "code",
        "colab": {}
      },
      "source": [
        "sns.heatmap(cm, annot=True)\n",
        "plt.show()"
      ],
      "execution_count": null,
      "outputs": []
    },
    {
      "cell_type": "markdown",
      "metadata": {
        "id": "wha-wP8bVxfN",
        "colab_type": "text"
      },
      "source": [
        "Classification report"
      ]
    },
    {
      "cell_type": "code",
      "metadata": {
        "id": "nRfWj8OhSW5W",
        "colab_type": "code",
        "colab": {
          "base_uri": "https://localhost:8080/",
          "height": 183
        },
        "outputId": "9b5af9b9-c63d-4cd3-8edd-3be25eab1707"
      },
      "source": [
        "print(classification_report(y_test, y_pred))"
      ],
      "execution_count": 77,
      "outputs": [
        {
          "output_type": "stream",
          "text": [
            "              precision    recall  f1-score   support\n",
            "\n",
            "           0       0.92      0.68      0.78       255\n",
            "           1       0.23      0.62      0.33        39\n",
            "\n",
            "    accuracy                           0.67       294\n",
            "   macro avg       0.57      0.65      0.56       294\n",
            "weighted avg       0.83      0.67      0.72       294\n",
            "\n"
          ],
          "name": "stdout"
        }
      ]
    },
    {
      "cell_type": "markdown",
      "metadata": {
        "id": "gxKy_8pPSeJr",
        "colab_type": "text"
      },
      "source": [
        "### Decision Tree"
      ]
    },
    {
      "cell_type": "markdown",
      "metadata": {
        "id": "soFEgKSJV1Jm",
        "colab_type": "text"
      },
      "source": [
        "Model Training"
      ]
    },
    {
      "cell_type": "code",
      "metadata": {
        "id": "JroSwP73SZUa",
        "colab_type": "code",
        "colab": {
          "base_uri": "https://localhost:8080/",
          "height": 128
        },
        "outputId": "4a567e14-610a-43cb-e1ca-88954949d600"
      },
      "source": [
        "from sklearn.tree import DecisionTreeClassifier\n",
        "classifier = DecisionTreeClassifier(criterion = 'entropy', random_state = 0)\n",
        "\n",
        "classifier.fit(X_train, y_train)"
      ],
      "execution_count": 78,
      "outputs": [
        {
          "output_type": "execute_result",
          "data": {
            "text/plain": [
              "DecisionTreeClassifier(ccp_alpha=0.0, class_weight=None, criterion='entropy',\n",
              "                       max_depth=None, max_features=None, max_leaf_nodes=None,\n",
              "                       min_impurity_decrease=0.0, min_impurity_split=None,\n",
              "                       min_samples_leaf=1, min_samples_split=2,\n",
              "                       min_weight_fraction_leaf=0.0, presort='deprecated',\n",
              "                       random_state=0, splitter='best')"
            ]
          },
          "metadata": {
            "tags": []
          },
          "execution_count": 78
        }
      ]
    },
    {
      "cell_type": "markdown",
      "metadata": {
        "id": "wpUMjGjcV4f-",
        "colab_type": "text"
      },
      "source": [
        "Model Prediction"
      ]
    },
    {
      "cell_type": "code",
      "metadata": {
        "id": "v3JpqXb-SjGn",
        "colab_type": "code",
        "colab": {}
      },
      "source": [
        "y_pred = classifier.predict(X_test)"
      ],
      "execution_count": 79,
      "outputs": []
    },
    {
      "cell_type": "markdown",
      "metadata": {
        "id": "Rs0w2YD9V69j",
        "colab_type": "text"
      },
      "source": [
        "Accuracy"
      ]
    },
    {
      "cell_type": "code",
      "metadata": {
        "id": "mW7Bq1_qSlDs",
        "colab_type": "code",
        "colab": {
          "base_uri": "https://localhost:8080/",
          "height": 35
        },
        "outputId": "2d2f7173-4b12-43d5-bcfe-72902fba0fd5"
      },
      "source": [
        "from sklearn.metrics import accuracy_score\n",
        "acc = accuracy_score(y_test, y_pred)\n",
        "\n",
        "print(f'accuracy : {acc:.2f}%')"
      ],
      "execution_count": 80,
      "outputs": [
        {
          "output_type": "stream",
          "text": [
            "accuracy : 0.77%\n"
          ],
          "name": "stdout"
        }
      ]
    },
    {
      "cell_type": "markdown",
      "metadata": {
        "id": "xrOefWU4V98u",
        "colab_type": "text"
      },
      "source": [
        "Confusion Matrix"
      ]
    },
    {
      "cell_type": "code",
      "metadata": {
        "id": "8jX2F2HdSoGr",
        "colab_type": "code",
        "colab": {
          "base_uri": "https://localhost:8080/",
          "height": 54
        },
        "outputId": "845feacd-e5cf-42b1-f2f2-46ac02f2454d"
      },
      "source": [
        "from sklearn.metrics import confusion_matrix, accuracy_score\n",
        "cm = confusion_matrix(y_test, y_pred)\n",
        "print(cm)"
      ],
      "execution_count": 82,
      "outputs": [
        {
          "output_type": "stream",
          "text": [
            "[[219  36]\n",
            " [ 32   7]]\n"
          ],
          "name": "stdout"
        }
      ]
    },
    {
      "cell_type": "code",
      "metadata": {
        "id": "PAxLTE8cSuco",
        "colab_type": "code",
        "colab": {
          "base_uri": "https://localhost:8080/",
          "height": 265
        },
        "outputId": "091015d9-91bb-4c96-fd13-c2954d203666"
      },
      "source": [
        "sns.heatmap(cm, annot=True)\n",
        "plt.show()"
      ],
      "execution_count": 83,
      "outputs": [
        {
          "output_type": "display_data",
          "data": {
            "image/png": "[encoded data removed]",
            "text/plain": [
              "<Figure size 432x288 with 2 Axes>"
            ]
          },
          "metadata": {
            "tags": [],
            "needs_background": "light"
          }
        }
      ]
    },
    {
      "cell_type": "markdown",
      "metadata": {
        "id": "JBwvTi-YWA07",
        "colab_type": "text"
      },
      "source": [
        "Classification Report"
      ]
    },
    {
      "cell_type": "code",
      "metadata": {
        "id": "_nHS6lC-SqgB",
        "colab_type": "code",
        "colab": {
          "base_uri": "https://localhost:8080/",
          "height": 183
        },
        "outputId": "d26792eb-563e-4879-d436-01ede7b5a090"
      },
      "source": [
        "print(classification_report(y_test, y_pred))"
      ],
      "execution_count": 84,
      "outputs": [
        {
          "output_type": "stream",
          "text": [
            "              precision    recall  f1-score   support\n",
            "\n",
            "           0       0.87      0.86      0.87       255\n",
            "           1       0.16      0.18      0.17        39\n",
            "\n",
            "    accuracy                           0.77       294\n",
            "   macro avg       0.52      0.52      0.52       294\n",
            "weighted avg       0.78      0.77      0.77       294\n",
            "\n"
          ],
          "name": "stdout"
        }
      ]
    },
    {
      "cell_type": "markdown",
      "metadata": {
        "id": "s4Zc-_IwS1dO",
        "colab_type": "text"
      },
      "source": [
        "### Random Forest"
      ]
    },
    {
      "cell_type": "markdown",
      "metadata": {
        "id": "vFOk-r1ZWISr",
        "colab_type": "text"
      },
      "source": [
        "Model Training"
      ]
    },
    {
      "cell_type": "code",
      "metadata": {
        "id": "Xgvi6WwoSynR",
        "colab_type": "code",
        "colab": {
          "base_uri": "https://localhost:8080/",
          "height": 165
        },
        "outputId": "b1387343-eba2-4677-9361-0c52292c9c17"
      },
      "source": [
        "from sklearn.ensemble import RandomForestClassifier\n",
        "classifier = RandomForestClassifier(n_estimators = 10, criterion = 'entropy', random_state = 0)\n",
        "\n",
        "classifier.fit(X_train, y_train)"
      ],
      "execution_count": 85,
      "outputs": [
        {
          "output_type": "execute_result",
          "data": {
            "text/plain": [
              "RandomForestClassifier(bootstrap=True, ccp_alpha=0.0, class_weight=None,\n",
              "                       criterion='entropy', max_depth=None, max_features='auto',\n",
              "                       max_leaf_nodes=None, max_samples=None,\n",
              "                       min_impurity_decrease=0.0, min_impurity_split=None,\n",
              "                       min_samples_leaf=1, min_samples_split=2,\n",
              "                       min_weight_fraction_leaf=0.0, n_estimators=10,\n",
              "                       n_jobs=None, oob_score=False, random_state=0, verbose=0,\n",
              "                       warm_start=False)"
            ]
          },
          "metadata": {
            "tags": []
          },
          "execution_count": 85
        }
      ]
    },
    {
      "cell_type": "markdown",
      "metadata": {
        "id": "SZpIRTZOYiKY",
        "colab_type": "text"
      },
      "source": [
        "Model Prediction"
      ]
    },
    {
      "cell_type": "code",
      "metadata": {
        "id": "qX23q0RRS9AM",
        "colab_type": "code",
        "colab": {}
      },
      "source": [
        "y_pred = classifier.predict(X_test)"
      ],
      "execution_count": 86,
      "outputs": []
    },
    {
      "cell_type": "markdown",
      "metadata": {
        "id": "TQQRnLiGYlx0",
        "colab_type": "text"
      },
      "source": [
        "Accuracy"
      ]
    },
    {
      "cell_type": "code",
      "metadata": {
        "id": "eL-gmvWiTM0N",
        "colab_type": "code",
        "colab": {
          "base_uri": "https://localhost:8080/",
          "height": 35
        },
        "outputId": "5b66ee5c-761d-4bbe-dd04-a718343f8039"
      },
      "source": [
        "from sklearn.metrics import accuracy_score\n",
        "acc = accuracy_score(y_test, y_pred)\n",
        "\n",
        "print(f'accuracy : {acc:.2f}%')"
      ],
      "execution_count": 88,
      "outputs": [
        {
          "output_type": "stream",
          "text": [
            "accuracy : 0.86%\n"
          ],
          "name": "stdout"
        }
      ]
    },
    {
      "cell_type": "markdown",
      "metadata": {
        "id": "M-9_oJehYnHA",
        "colab_type": "text"
      },
      "source": [
        "Confusion Matrix"
      ]
    },
    {
      "cell_type": "code",
      "metadata": {
        "id": "sKb-5b8HTVQj",
        "colab_type": "code",
        "colab": {
          "base_uri": "https://localhost:8080/",
          "height": 54
        },
        "outputId": "a364f528-b964-4f19-afeb-16cec8a0542e"
      },
      "source": [
        "from sklearn.metrics import confusion_matrix, accuracy_score\n",
        "cm = confusion_matrix(y_test, y_pred)\n",
        "print(cm)"
      ],
      "execution_count": 89,
      "outputs": [
        {
          "output_type": "stream",
          "text": [
            "[[251   4]\n",
            " [ 36   3]]\n"
          ],
          "name": "stdout"
        }
      ]
    },
    {
      "cell_type": "code",
      "metadata": {
        "id": "FFqNF20vTcDj",
        "colab_type": "code",
        "colab": {
          "base_uri": "https://localhost:8080/",
          "height": 268
        },
        "outputId": "1e4d165b-a6b3-469f-b2d9-287369ad18b6"
      },
      "source": [
        "sns.heatmap(cm, annot=True)\n",
        "plt.show()"
      ],
      "execution_count": 90,
      "outputs": [
        {
          "output_type": "display_data",
          "data": {
            "image/png": "[encoded data removed]",
            "text/plain": [
              "<Figure size 432x288 with 2 Axes>"
            ]
          },
          "metadata": {
            "tags": [],
            "needs_background": "light"
          }
        }
      ]
    },
    {
      "cell_type": "markdown",
      "metadata": {
        "id": "KpV1X9XYYqda",
        "colab_type": "text"
      },
      "source": [
        "Classification Report"
      ]
    },
    {
      "cell_type": "code",
      "metadata": {
        "id": "0SKg9PEhTeEf",
        "colab_type": "code",
        "colab": {
          "base_uri": "https://localhost:8080/",
          "height": 183
        },
        "outputId": "7d385467-4760-4747-bf34-337c87776b32"
      },
      "source": [
        "print(classification_report(y_test, y_pred))"
      ],
      "execution_count": 91,
      "outputs": [
        {
          "output_type": "stream",
          "text": [
            "              precision    recall  f1-score   support\n",
            "\n",
            "           0       0.87      0.98      0.93       255\n",
            "           1       0.43      0.08      0.13        39\n",
            "\n",
            "    accuracy                           0.86       294\n",
            "   macro avg       0.65      0.53      0.53       294\n",
            "weighted avg       0.82      0.86      0.82       294\n",
            "\n"
          ],
          "name": "stdout"
        }
      ]
    },
    {
      "cell_type": "markdown",
      "metadata": {
        "id": "KyD4gCwnUKU8",
        "colab_type": "text"
      },
      "source": [
        "### ANN"
      ]
    },
    {
      "cell_type": "code",
      "metadata": {
        "id": "YfEOVA-8TzaO",
        "colab_type": "code",
        "colab": {}
      },
      "source": [
        "import tensorflow as tf"
      ],
      "execution_count": 92,
      "outputs": []
    },
    {
      "cell_type": "code",
      "metadata": {
        "id": "gZmhUzC6bR9g",
        "colab_type": "code",
        "colab": {}
      },
      "source": [
        "model = tf.keras.models.Sequential()\n",
        "model.add(tf.keras.layers.Dense(units=500, activation='relu', input_shape=(50, )))\n",
        "model.add(tf.keras.layers.Dense(units=500, activation='relu'))\n",
        "model.add(tf.keras.layers.Dense(units=500, activation='relu'))\n",
        "model.add(tf.keras.layers.Dense(units=1, activation='sigmoid'))"
      ],
      "execution_count": 93,
      "outputs": []
    },
    {
      "cell_type": "code",
      "metadata": {
        "id": "NWSwNegSbT2E",
        "colab_type": "code",
        "colab": {
          "base_uri": "https://localhost:8080/",
          "height": 313
        },
        "outputId": "04e706be-589a-4f84-c1b3-67333f017f05"
      },
      "source": [
        "model.summary()"
      ],
      "execution_count": 94,
      "outputs": [
        {
          "output_type": "stream",
          "text": [
            "Model: \"sequential\"\n",
            "_________________________________________________________________\n",
            "Layer (type)                 Output Shape              Param #   \n",
            "=================================================================\n",
            "dense (Dense)                (None, 500)               25500     \n",
            "_________________________________________________________________\n",
            "dense_1 (Dense)              (None, 500)               250500    \n",
            "_________________________________________________________________\n",
            "dense_2 (Dense)              (None, 500)               250500    \n",
            "_________________________________________________________________\n",
            "dense_3 (Dense)              (None, 1)                 501       \n",
            "=================================================================\n",
            "Total params: 527,001\n",
            "Trainable params: 527,001\n",
            "Non-trainable params: 0\n",
            "_________________________________________________________________\n"
          ],
          "name": "stdout"
        }
      ]
    },
    {
      "cell_type": "code",
      "metadata": {
        "id": "sLCoUymsbV61",
        "colab_type": "code",
        "colab": {}
      },
      "source": [
        "model.compile(optimizer='Adam', loss='binary_crossentropy', metrics = ['accuracy'])"
      ],
      "execution_count": 95,
      "outputs": []
    },
    {
      "cell_type": "code",
      "metadata": {
        "id": "bcs-akkHbYYA",
        "colab_type": "code",
        "colab": {
          "base_uri": "https://localhost:8080/",
          "height": 1000
        },
        "outputId": "5859b8f7-bfdf-4f91-9c11-9bc633eb04e7"
      },
      "source": [
        "# oversampler = SMOTE(random_state=0)\n",
        "# smote_train, smote_target = oversampler.fit_sample(X_train, y_train)\n",
        "# epochs_hist = model.fit(smote_train, smote_target, epochs = 100, batch_size = 50)\n",
        "epochs_hist = model.fit(X_train, y_train, epochs = 100, batch_size = 50)"
      ],
      "execution_count": 96,
      "outputs": [
        {
          "output_type": "stream",
          "text": [
            "Epoch 1/100\n",
            "24/24 [==============================] - 0s 9ms/step - loss: 0.4204 - accuracy: 0.8138\n",
            "Epoch 2/100\n",
            "24/24 [==============================] - 0s 9ms/step - loss: 0.3199 - accuracy: 0.8759\n",
            "Epoch 3/100\n",
            "24/24 [==============================] - 0s 8ms/step - loss: 0.2824 - accuracy: 0.8903\n",
            "Epoch 4/100\n",
            "24/24 [==============================] - 0s 8ms/step - loss: 0.2536 - accuracy: 0.8997\n",
            "Epoch 5/100\n",
            "24/24 [==============================] - 0s 8ms/step - loss: 0.2176 - accuracy: 0.9150\n",
            "Epoch 6/100\n",
            "24/24 [==============================] - 0s 9ms/step - loss: 0.1973 - accuracy: 0.9184\n",
            "Epoch 7/100\n",
            "24/24 [==============================] - 0s 8ms/step - loss: 0.2106 - accuracy: 0.9218\n",
            "Epoch 8/100\n",
            "24/24 [==============================] - 0s 8ms/step - loss: 0.1819 - accuracy: 0.9218\n",
            "Epoch 9/100\n",
            "24/24 [==============================] - 0s 8ms/step - loss: 0.1155 - accuracy: 0.9600\n",
            "Epoch 10/100\n",
            "24/24 [==============================] - 0s 8ms/step - loss: 0.0972 - accuracy: 0.9643\n",
            "Epoch 11/100\n",
            "24/24 [==============================] - 0s 8ms/step - loss: 0.0832 - accuracy: 0.9711\n",
            "Epoch 12/100\n",
            "24/24 [==============================] - 0s 8ms/step - loss: 0.0724 - accuracy: 0.9694\n",
            "Epoch 13/100\n",
            "24/24 [==============================] - 0s 8ms/step - loss: 0.0500 - accuracy: 0.9804\n",
            "Epoch 14/100\n",
            "24/24 [==============================] - 0s 8ms/step - loss: 0.0377 - accuracy: 0.9872\n",
            "Epoch 15/100\n",
            "24/24 [==============================] - 0s 8ms/step - loss: 0.0294 - accuracy: 0.9923\n",
            "Epoch 16/100\n",
            "24/24 [==============================] - 0s 8ms/step - loss: 0.0199 - accuracy: 0.9940\n",
            "Epoch 17/100\n",
            "24/24 [==============================] - 0s 8ms/step - loss: 0.0079 - accuracy: 0.9991\n",
            "Epoch 18/100\n",
            "24/24 [==============================] - 0s 8ms/step - loss: 0.0187 - accuracy: 0.9906\n",
            "Epoch 19/100\n",
            "24/24 [==============================] - 0s 8ms/step - loss: 0.0647 - accuracy: 0.9753\n",
            "Epoch 20/100\n",
            "24/24 [==============================] - 0s 8ms/step - loss: 0.0732 - accuracy: 0.9736\n",
            "Epoch 21/100\n",
            "24/24 [==============================] - 0s 8ms/step - loss: 0.0270 - accuracy: 0.9932\n",
            "Epoch 22/100\n",
            "24/24 [==============================] - 0s 8ms/step - loss: 0.0110 - accuracy: 0.9966\n",
            "Epoch 23/100\n",
            "24/24 [==============================] - 0s 8ms/step - loss: 0.0040 - accuracy: 0.9983\n",
            "Epoch 24/100\n",
            "24/24 [==============================] - 0s 8ms/step - loss: 0.0022 - accuracy: 1.0000\n",
            "Epoch 25/100\n",
            "24/24 [==============================] - 0s 8ms/step - loss: 0.0010 - accuracy: 1.0000\n",
            "Epoch 26/100\n",
            "24/24 [==============================] - 0s 9ms/step - loss: 6.2904e-04 - accuracy: 1.0000\n",
            "Epoch 27/100\n",
            "24/24 [==============================] - 0s 8ms/step - loss: 4.3845e-04 - accuracy: 1.0000\n",
            "Epoch 28/100\n",
            "24/24 [==============================] - 0s 9ms/step - loss: 3.5278e-04 - accuracy: 1.0000\n",
            "Epoch 29/100\n",
            "24/24 [==============================] - 0s 8ms/step - loss: 2.9139e-04 - accuracy: 1.0000\n",
            "Epoch 30/100\n",
            "24/24 [==============================] - 0s 8ms/step - loss: 2.3883e-04 - accuracy: 1.0000\n",
            "Epoch 31/100\n",
            "24/24 [==============================] - 0s 9ms/step - loss: 1.9715e-04 - accuracy: 1.0000\n",
            "Epoch 32/100\n",
            "24/24 [==============================] - 0s 8ms/step - loss: 1.6709e-04 - accuracy: 1.0000\n",
            "Epoch 33/100\n",
            "24/24 [==============================] - 0s 8ms/step - loss: 1.4275e-04 - accuracy: 1.0000\n",
            "Epoch 34/100\n",
            "24/24 [==============================] - 0s 8ms/step - loss: 1.2294e-04 - accuracy: 1.0000\n",
            "Epoch 35/100\n",
            "24/24 [==============================] - 0s 8ms/step - loss: 1.0772e-04 - accuracy: 1.0000\n",
            "Epoch 36/100\n",
            "24/24 [==============================] - 0s 9ms/step - loss: 9.4543e-05 - accuracy: 1.0000\n",
            "Epoch 37/100\n",
            "24/24 [==============================] - 0s 8ms/step - loss: 8.3196e-05 - accuracy: 1.0000\n",
            "Epoch 38/100\n",
            "24/24 [==============================] - 0s 8ms/step - loss: 7.4392e-05 - accuracy: 1.0000\n",
            "Epoch 39/100\n",
            "24/24 [==============================] - 0s 8ms/step - loss: 6.7120e-05 - accuracy: 1.0000\n",
            "Epoch 40/100\n",
            "24/24 [==============================] - 0s 8ms/step - loss: 6.0829e-05 - accuracy: 1.0000\n",
            "Epoch 41/100\n",
            "24/24 [==============================] - 0s 8ms/step - loss: 5.4827e-05 - accuracy: 1.0000\n",
            "Epoch 42/100\n",
            "24/24 [==============================] - 0s 8ms/step - loss: 4.9945e-05 - accuracy: 1.0000\n",
            "Epoch 43/100\n",
            "24/24 [==============================] - 0s 8ms/step - loss: 4.5976e-05 - accuracy: 1.0000\n",
            "Epoch 44/100\n",
            "24/24 [==============================] - 0s 8ms/step - loss: 4.2086e-05 - accuracy: 1.0000\n",
            "Epoch 45/100\n",
            "24/24 [==============================] - 0s 8ms/step - loss: 3.8848e-05 - accuracy: 1.0000\n",
            "Epoch 46/100\n",
            "24/24 [==============================] - 0s 9ms/step - loss: 3.5671e-05 - accuracy: 1.0000\n",
            "Epoch 47/100\n",
            "24/24 [==============================] - 0s 8ms/step - loss: 3.2959e-05 - accuracy: 1.0000\n",
            "Epoch 48/100\n",
            "24/24 [==============================] - 0s 8ms/step - loss: 3.0735e-05 - accuracy: 1.0000\n",
            "Epoch 49/100\n",
            "24/24 [==============================] - 0s 9ms/step - loss: 2.8576e-05 - accuracy: 1.0000\n",
            "Epoch 50/100\n",
            "24/24 [==============================] - 0s 8ms/step - loss: 2.6568e-05 - accuracy: 1.0000\n",
            "Epoch 51/100\n",
            "24/24 [==============================] - 0s 9ms/step - loss: 2.4903e-05 - accuracy: 1.0000\n",
            "Epoch 52/100\n",
            "24/24 [==============================] - 0s 8ms/step - loss: 2.2877e-05 - accuracy: 1.0000\n",
            "Epoch 53/100\n",
            "24/24 [==============================] - 0s 8ms/step - loss: 2.1103e-05 - accuracy: 1.0000\n",
            "Epoch 54/100\n",
            "24/24 [==============================] - 0s 8ms/step - loss: 1.9476e-05 - accuracy: 1.0000\n",
            "Epoch 55/100\n",
            "24/24 [==============================] - 0s 9ms/step - loss: 1.7918e-05 - accuracy: 1.0000\n",
            "Epoch 56/100\n",
            "24/24 [==============================] - 0s 8ms/step - loss: 1.6580e-05 - accuracy: 1.0000\n",
            "Epoch 57/100\n",
            "24/24 [==============================] - 0s 8ms/step - loss: 1.5149e-05 - accuracy: 1.0000\n",
            "Epoch 58/100\n",
            "24/24 [==============================] - 0s 8ms/step - loss: 1.4252e-05 - accuracy: 1.0000\n",
            "Epoch 59/100\n",
            "24/24 [==============================] - 0s 8ms/step - loss: 1.2940e-05 - accuracy: 1.0000\n",
            "Epoch 60/100\n",
            "24/24 [==============================] - 0s 8ms/step - loss: 1.2024e-05 - accuracy: 1.0000\n",
            "Epoch 61/100\n",
            "24/24 [==============================] - 0s 8ms/step - loss: 1.1108e-05 - accuracy: 1.0000\n",
            "Epoch 62/100\n",
            "24/24 [==============================] - 0s 8ms/step - loss: 1.0424e-05 - accuracy: 1.0000\n",
            "Epoch 63/100\n",
            "24/24 [==============================] - 0s 8ms/step - loss: 9.5736e-06 - accuracy: 1.0000\n",
            "Epoch 64/100\n",
            "24/24 [==============================] - 0s 8ms/step - loss: 8.8808e-06 - accuracy: 1.0000\n",
            "Epoch 65/100\n",
            "24/24 [==============================] - 0s 9ms/step - loss: 8.3130e-06 - accuracy: 1.0000\n",
            "Epoch 66/100\n",
            "24/24 [==============================] - 0s 8ms/step - loss: 7.7757e-06 - accuracy: 1.0000\n",
            "Epoch 67/100\n",
            "24/24 [==============================] - 0s 8ms/step - loss: 7.2860e-06 - accuracy: 1.0000\n",
            "Epoch 68/100\n",
            "24/24 [==============================] - 0s 8ms/step - loss: 6.8058e-06 - accuracy: 1.0000\n",
            "Epoch 69/100\n",
            "24/24 [==============================] - 0s 9ms/step - loss: 6.4169e-06 - accuracy: 1.0000\n",
            "Epoch 70/100\n",
            "24/24 [==============================] - 0s 9ms/step - loss: 6.0249e-06 - accuracy: 1.0000\n",
            "Epoch 71/100\n",
            "24/24 [==============================] - 0s 8ms/step - loss: 5.7081e-06 - accuracy: 1.0000\n",
            "Epoch 72/100\n",
            "24/24 [==============================] - 0s 8ms/step - loss: 5.3762e-06 - accuracy: 1.0000\n",
            "Epoch 73/100\n",
            "24/24 [==============================] - 0s 8ms/step - loss: 5.0751e-06 - accuracy: 1.0000\n",
            "Epoch 74/100\n",
            "24/24 [==============================] - 0s 8ms/step - loss: 4.8006e-06 - accuracy: 1.0000\n",
            "Epoch 75/100\n",
            "24/24 [==============================] - 0s 9ms/step - loss: 4.5503e-06 - accuracy: 1.0000\n",
            "Epoch 76/100\n",
            "24/24 [==============================] - 0s 8ms/step - loss: 4.3274e-06 - accuracy: 1.0000\n",
            "Epoch 77/100\n",
            "24/24 [==============================] - 0s 8ms/step - loss: 4.0979e-06 - accuracy: 1.0000\n",
            "Epoch 78/100\n",
            "24/24 [==============================] - 0s 8ms/step - loss: 3.8922e-06 - accuracy: 1.0000\n",
            "Epoch 79/100\n",
            "24/24 [==============================] - 0s 8ms/step - loss: 3.7015e-06 - accuracy: 1.0000\n",
            "Epoch 80/100\n",
            "24/24 [==============================] - 0s 8ms/step - loss: 3.5287e-06 - accuracy: 1.0000\n",
            "Epoch 81/100\n",
            "24/24 [==============================] - 0s 8ms/step - loss: 3.3642e-06 - accuracy: 1.0000\n",
            "Epoch 82/100\n",
            "24/24 [==============================] - 0s 8ms/step - loss: 3.2021e-06 - accuracy: 1.0000\n",
            "Epoch 83/100\n",
            "24/24 [==============================] - 0s 8ms/step - loss: 3.0636e-06 - accuracy: 1.0000\n",
            "Epoch 84/100\n",
            "24/24 [==============================] - 0s 9ms/step - loss: 2.9291e-06 - accuracy: 1.0000\n",
            "Epoch 85/100\n",
            "24/24 [==============================] - 0s 8ms/step - loss: 2.7960e-06 - accuracy: 1.0000\n",
            "Epoch 86/100\n",
            "24/24 [==============================] - 0s 9ms/step - loss: 2.6768e-06 - accuracy: 1.0000\n",
            "Epoch 87/100\n",
            "24/24 [==============================] - 0s 8ms/step - loss: 2.5680e-06 - accuracy: 1.0000\n",
            "Epoch 88/100\n",
            "24/24 [==============================] - 0s 8ms/step - loss: 2.4590e-06 - accuracy: 1.0000\n",
            "Epoch 89/100\n",
            "24/24 [==============================] - 0s 8ms/step - loss: 2.3616e-06 - accuracy: 1.0000\n",
            "Epoch 90/100\n",
            "24/24 [==============================] - 0s 8ms/step - loss: 2.2705e-06 - accuracy: 1.0000\n",
            "Epoch 91/100\n",
            "24/24 [==============================] - 0s 8ms/step - loss: 2.1777e-06 - accuracy: 1.0000\n",
            "Epoch 92/100\n",
            "24/24 [==============================] - 0s 8ms/step - loss: 2.0982e-06 - accuracy: 1.0000\n",
            "Epoch 93/100\n",
            "24/24 [==============================] - 0s 8ms/step - loss: 2.0164e-06 - accuracy: 1.0000\n",
            "Epoch 94/100\n",
            "24/24 [==============================] - 0s 9ms/step - loss: 1.9411e-06 - accuracy: 1.0000\n",
            "Epoch 95/100\n",
            "24/24 [==============================] - 0s 8ms/step - loss: 1.8599e-06 - accuracy: 1.0000\n",
            "Epoch 96/100\n",
            "24/24 [==============================] - 0s 9ms/step - loss: 1.7915e-06 - accuracy: 1.0000\n",
            "Epoch 97/100\n",
            "24/24 [==============================] - 0s 8ms/step - loss: 1.7317e-06 - accuracy: 1.0000\n",
            "Epoch 98/100\n",
            "24/24 [==============================] - 0s 8ms/step - loss: 1.6656e-06 - accuracy: 1.0000\n",
            "Epoch 99/100\n",
            "24/24 [==============================] - 0s 8ms/step - loss: 1.6096e-06 - accuracy: 1.0000\n",
            "Epoch 100/100\n",
            "24/24 [==============================] - 0s 8ms/step - loss: 1.5551e-06 - accuracy: 1.0000\n"
          ],
          "name": "stdout"
        }
      ]
    },
    {
      "cell_type": "code",
      "metadata": {
        "id": "I8sk9hMjbcRP",
        "colab_type": "code",
        "colab": {}
      },
      "source": [
        "y_pred = model.predict(X_test)\n",
        "y_pred = y_pred > 0.5"
      ],
      "execution_count": 97,
      "outputs": []
    },
    {
      "cell_type": "code",
      "metadata": {
        "id": "hvaPiPHLbpa5",
        "colab_type": "code",
        "colab": {
          "base_uri": "https://localhost:8080/",
          "height": 35
        },
        "outputId": "89e3a95d-6091-4bc3-cddd-31835b79f95f"
      },
      "source": [
        "epochs_hist.history.keys()"
      ],
      "execution_count": 98,
      "outputs": [
        {
          "output_type": "execute_result",
          "data": {
            "text/plain": [
              "dict_keys(['loss', 'accuracy'])"
            ]
          },
          "metadata": {
            "tags": []
          },
          "execution_count": 98
        }
      ]
    },
    {
      "cell_type": "code",
      "metadata": {
        "id": "NwR3LYQ-bsFY",
        "colab_type": "code",
        "colab": {
          "base_uri": "https://localhost:8080/",
          "height": 313
        },
        "outputId": "c8a32b2b-773b-4343-b9d8-8ca6f671e122"
      },
      "source": [
        "plt.plot(epochs_hist.history['loss'])\n",
        "plt.title('Model Loss Progress During Training')\n",
        "plt.xlabel('Epoch')\n",
        "plt.ylabel('Training Loss')\n",
        "plt.legend(['Training Loss'])"
      ],
      "execution_count": 99,
      "outputs": [
        {
          "output_type": "execute_result",
          "data": {
            "text/plain": [
              "<matplotlib.legend.Legend at 0x7ffa32eee278>"
            ]
          },
          "metadata": {
            "tags": []
          },
          "execution_count": 99
        },
        {
          "output_type": "display_data",
          "data": {
            "image/png": "[encoded data removed]",
            "text/plain": [
              "<Figure size 432x288 with 1 Axes>"
            ]
          },
          "metadata": {
            "tags": [],
            "needs_background": "light"
          }
        }
      ]
    },
    {
      "cell_type": "code",
      "metadata": {
        "id": "yniUnnVBb5z9",
        "colab_type": "code",
        "colab": {
          "base_uri": "https://localhost:8080/",
          "height": 313
        },
        "outputId": "963a517e-d9d9-40bd-d130-3292b6c35c4b"
      },
      "source": [
        "plt.plot(epochs_hist.history['accuracy'])\n",
        "plt.title('Model Accuracy Progress During Training')\n",
        "plt.xlabel('Epoch')\n",
        "plt.ylabel('Training Accuracy')\n",
        "plt.legend(['Training Accuracy'])"
      ],
      "execution_count": 100,
      "outputs": [
        {
          "output_type": "execute_result",
          "data": {
            "text/plain": [
              "<matplotlib.legend.Legend at 0x7ffa3090ee80>"
            ]
          },
          "metadata": {
            "tags": []
          },
          "execution_count": 100
        },
        {
          "output_type": "display_data",
          "data": {
            "image/png": "[encoded data removed]",
            "text/plain": [
              "<Figure size 432x288 with 1 Axes>"
            ]
          },
          "metadata": {
            "tags": [],
            "needs_background": "light"
          }
        }
      ]
    },
    {
      "cell_type": "code",
      "metadata": {
        "id": "eo1qRklQb8T2",
        "colab_type": "code",
        "colab": {
          "base_uri": "https://localhost:8080/",
          "height": 283
        },
        "outputId": "61347a9e-b117-4b01-aab6-59099e80f13f"
      },
      "source": [
        "cm = confusion_matrix(y_test, y_pred)\n",
        "sns.heatmap(cm, annot=True)"
      ],
      "execution_count": 101,
      "outputs": [
        {
          "output_type": "execute_result",
          "data": {
            "text/plain": [
              "<matplotlib.axes._subplots.AxesSubplot at 0x7ffa308d2358>"
            ]
          },
          "metadata": {
            "tags": []
          },
          "execution_count": 101
        },
        {
          "output_type": "display_data",
          "data": {
            "image/png": "[encoded data removed]",
            "text/plain": [
              "<Figure size 432x288 with 2 Axes>"
            ]
          },
          "metadata": {
            "tags": [],
            "needs_background": "light"
          }
        }
      ]
    },
    {
      "cell_type": "code",
      "metadata": {
        "id": "sPjLNakCcA-p",
        "colab_type": "code",
        "colab": {
          "base_uri": "https://localhost:8080/",
          "height": 1000
        },
        "outputId": "4e2beb96-4f1e-45d9-bdcc-1c3c342930aa"
      },
      "source": [
        "y_pred"
      ],
      "execution_count": 102,
      "outputs": [
        {
          "output_type": "execute_result",
          "data": {
            "text/plain": [
              "array([[False],\n",
              "       [False],\n",
              "       [False],\n",
              "       [False],\n",
              "       [False],\n",
              "       [False],\n",
              "       [False],\n",
              "       [False],\n",
              "       [False],\n",
              "       [False],\n",
              "       [False],\n",
              "       [False],\n",
              "       [False],\n",
              "       [False],\n",
              "       [False],\n",
              "       [False],\n",
              "       [False],\n",
              "       [False],\n",
              "       [False],\n",
              "       [False],\n",
              "       [ True],\n",
              "       [False],\n",
              "       [False],\n",
              "       [False],\n",
              "       [False],\n",
              "       [False],\n",
              "       [False],\n",
              "       [False],\n",
              "       [False],\n",
              "       [False],\n",
              "       [False],\n",
              "       [False],\n",
              "       [False],\n",
              "       [False],\n",
              "       [ True],\n",
              "       [False],\n",
              "       [False],\n",
              "       [False],\n",
              "       [ True],\n",
              "       [False],\n",
              "       [False],\n",
              "       [False],\n",
              "       [False],\n",
              "       [False],\n",
              "       [ True],\n",
              "       [False],\n",
              "       [ True],\n",
              "       [ True],\n",
              "       [False],\n",
              "       [ True],\n",
              "       [False],\n",
              "       [False],\n",
              "       [False],\n",
              "       [False],\n",
              "       [False],\n",
              "       [False],\n",
              "       [ True],\n",
              "       [False],\n",
              "       [False],\n",
              "       [False],\n",
              "       [False],\n",
              "       [ True],\n",
              "       [False],\n",
              "       [False],\n",
              "       [False],\n",
              "       [False],\n",
              "       [False],\n",
              "       [False],\n",
              "       [False],\n",
              "       [False],\n",
              "       [False],\n",
              "       [False],\n",
              "       [False],\n",
              "       [False],\n",
              "       [False],\n",
              "       [False],\n",
              "       [False],\n",
              "       [False],\n",
              "       [False],\n",
              "       [False],\n",
              "       [False],\n",
              "       [False],\n",
              "       [False],\n",
              "       [False],\n",
              "       [False],\n",
              "       [False],\n",
              "       [False],\n",
              "       [False],\n",
              "       [False],\n",
              "       [False],\n",
              "       [False],\n",
              "       [False],\n",
              "       [ True],\n",
              "       [False],\n",
              "       [False],\n",
              "       [False],\n",
              "       [False],\n",
              "       [False],\n",
              "       [False],\n",
              "       [False],\n",
              "       [False],\n",
              "       [False],\n",
              "       [False],\n",
              "       [False],\n",
              "       [False],\n",
              "       [False],\n",
              "       [False],\n",
              "       [False],\n",
              "       [False],\n",
              "       [False],\n",
              "       [ True],\n",
              "       [False],\n",
              "       [False],\n",
              "       [False],\n",
              "       [False],\n",
              "       [False],\n",
              "       [ True],\n",
              "       [False],\n",
              "       [False],\n",
              "       [False],\n",
              "       [False],\n",
              "       [False],\n",
              "       [False],\n",
              "       [False],\n",
              "       [ True],\n",
              "       [False],\n",
              "       [False],\n",
              "       [False],\n",
              "       [False],\n",
              "       [False],\n",
              "       [False],\n",
              "       [False],\n",
              "       [False],\n",
              "       [False],\n",
              "       [False],\n",
              "       [False],\n",
              "       [False],\n",
              "       [False],\n",
              "       [False],\n",
              "       [False],\n",
              "       [False],\n",
              "       [False],\n",
              "       [False],\n",
              "       [False],\n",
              "       [False],\n",
              "       [False],\n",
              "       [False],\n",
              "       [ True],\n",
              "       [False],\n",
              "       [ True],\n",
              "       [False],\n",
              "       [False],\n",
              "       [False],\n",
              "       [ True],\n",
              "       [False],\n",
              "       [False],\n",
              "       [False],\n",
              "       [False],\n",
              "       [False],\n",
              "       [False],\n",
              "       [False],\n",
              "       [False],\n",
              "       [False],\n",
              "       [ True],\n",
              "       [False],\n",
              "       [False],\n",
              "       [False],\n",
              "       [False],\n",
              "       [False],\n",
              "       [False],\n",
              "       [False],\n",
              "       [False],\n",
              "       [ True],\n",
              "       [ True],\n",
              "       [False],\n",
              "       [False],\n",
              "       [False],\n",
              "       [False],\n",
              "       [False],\n",
              "       [ True],\n",
              "       [False],\n",
              "       [False],\n",
              "       [False],\n",
              "       [False],\n",
              "       [False],\n",
              "       [False],\n",
              "       [False],\n",
              "       [False],\n",
              "       [False],\n",
              "       [False],\n",
              "       [False],\n",
              "       [False],\n",
              "       [False],\n",
              "       [False],\n",
              "       [False],\n",
              "       [False],\n",
              "       [False],\n",
              "       [False],\n",
              "       [False],\n",
              "       [False],\n",
              "       [False],\n",
              "       [False],\n",
              "       [False],\n",
              "       [False],\n",
              "       [False],\n",
              "       [False],\n",
              "       [False],\n",
              "       [False],\n",
              "       [False],\n",
              "       [False],\n",
              "       [False],\n",
              "       [False],\n",
              "       [False],\n",
              "       [False],\n",
              "       [False],\n",
              "       [False],\n",
              "       [False],\n",
              "       [False],\n",
              "       [False],\n",
              "       [False],\n",
              "       [False],\n",
              "       [False],\n",
              "       [False],\n",
              "       [ True],\n",
              "       [False],\n",
              "       [False],\n",
              "       [False],\n",
              "       [False],\n",
              "       [False],\n",
              "       [False],\n",
              "       [ True],\n",
              "       [False],\n",
              "       [False],\n",
              "       [False],\n",
              "       [ True],\n",
              "       [False],\n",
              "       [False],\n",
              "       [False],\n",
              "       [False],\n",
              "       [False],\n",
              "       [False],\n",
              "       [False],\n",
              "       [False],\n",
              "       [False],\n",
              "       [False],\n",
              "       [False],\n",
              "       [False],\n",
              "       [ True],\n",
              "       [False],\n",
              "       [False],\n",
              "       [False],\n",
              "       [False],\n",
              "       [False],\n",
              "       [False],\n",
              "       [False],\n",
              "       [False],\n",
              "       [False],\n",
              "       [False],\n",
              "       [ True],\n",
              "       [False],\n",
              "       [False],\n",
              "       [False],\n",
              "       [False],\n",
              "       [False],\n",
              "       [False],\n",
              "       [False],\n",
              "       [False],\n",
              "       [False],\n",
              "       [False],\n",
              "       [False],\n",
              "       [False],\n",
              "       [False],\n",
              "       [False],\n",
              "       [ True],\n",
              "       [False],\n",
              "       [False],\n",
              "       [False],\n",
              "       [False],\n",
              "       [False],\n",
              "       [False],\n",
              "       [False],\n",
              "       [False],\n",
              "       [False],\n",
              "       [False],\n",
              "       [False],\n",
              "       [False],\n",
              "       [ True],\n",
              "       [False],\n",
              "       [False],\n",
              "       [False],\n",
              "       [False],\n",
              "       [False],\n",
              "       [False],\n",
              "       [False]])"
            ]
          },
          "metadata": {
            "tags": []
          },
          "execution_count": 102
        }
      ]
    },
    {
      "cell_type": "code",
      "metadata": {
        "id": "cFz3Vx8EcFyR",
        "colab_type": "code",
        "colab": {
          "base_uri": "https://localhost:8080/",
          "height": 183
        },
        "outputId": "28fb3d26-a249-4f98-d66e-d367f19f5871"
      },
      "source": [
        "print(classification_report(y_test, y_pred))"
      ],
      "execution_count": 103,
      "outputs": [
        {
          "output_type": "stream",
          "text": [
            "              precision    recall  f1-score   support\n",
            "\n",
            "           0       0.91      0.95      0.93       255\n",
            "           1       0.52      0.36      0.42        39\n",
            "\n",
            "    accuracy                           0.87       294\n",
            "   macro avg       0.71      0.65      0.68       294\n",
            "weighted avg       0.85      0.87      0.86       294\n",
            "\n"
          ],
          "name": "stdout"
        }
      ]
    }
  ]
}